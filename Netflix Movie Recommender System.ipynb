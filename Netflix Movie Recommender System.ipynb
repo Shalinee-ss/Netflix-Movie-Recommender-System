{
 "cells": [
  {
   "cell_type": "markdown",
   "id": "5084980a",
   "metadata": {},
   "source": [
    "# Netflix Movie Recommender System"
   ]
  },
  {
   "cell_type": "code",
   "execution_count": 1,
   "id": "9cf3be0a",
   "metadata": {},
   "outputs": [],
   "source": [
    "#Importing required basic libraries\n",
    "\n",
    "import warnings\n",
    "warnings.filterwarnings('ignore')\n",
    "import numpy as np\n",
    "import pandas as pd\n",
    "import matplotlib\n",
    "import matplotlib.pyplot as plt\n",
    "import seaborn as sns\n",
    "import surprise"
   ]
  },
  {
   "cell_type": "code",
   "execution_count": 2,
   "id": "6145343f",
   "metadata": {},
   "outputs": [],
   "source": [
    "# importing data\n",
    "df = pd.read_excel(\"D:/project/NetflixDatasetLatest2021_final (1).xlsx\")\n",
    "dff = pd.read_excel(\"D:/project/NetflixDatasetLatest2021_final (1).xlsx\",'ratings')"
   ]
  },
  {
   "cell_type": "code",
   "execution_count": 3,
   "id": "dbf9d241",
   "metadata": {},
   "outputs": [
    {
     "data": {
      "text/plain": [
       "(9425, 30)"
      ]
     },
     "execution_count": 3,
     "metadata": {},
     "output_type": "execute_result"
    }
   ],
   "source": [
    "df.shape"
   ]
  },
  {
   "cell_type": "code",
   "execution_count": 4,
   "id": "05d192c3",
   "metadata": {},
   "outputs": [
    {
     "data": {
      "text/plain": [
       "(100074, 4)"
      ]
     },
     "execution_count": 4,
     "metadata": {},
     "output_type": "execute_result"
    }
   ],
   "source": [
    "dff.shape"
   ]
  },
  {
   "cell_type": "code",
   "execution_count": 5,
   "id": "ca04adee",
   "metadata": {},
   "outputs": [
    {
     "data": {
      "text/html": [
       "<div>\n",
       "<style scoped>\n",
       "    .dataframe tbody tr th:only-of-type {\n",
       "        vertical-align: middle;\n",
       "    }\n",
       "\n",
       "    .dataframe tbody tr th {\n",
       "        vertical-align: top;\n",
       "    }\n",
       "\n",
       "    .dataframe thead th {\n",
       "        text-align: right;\n",
       "    }\n",
       "</style>\n",
       "<table border=\"1\" class=\"dataframe\">\n",
       "  <thead>\n",
       "    <tr style=\"text-align: right;\">\n",
       "      <th></th>\n",
       "      <th>Movie ID</th>\n",
       "      <th>Title</th>\n",
       "      <th>Genre</th>\n",
       "      <th>Tags</th>\n",
       "      <th>Languages</th>\n",
       "      <th>Series or Movie</th>\n",
       "      <th>Hidden Gem Score</th>\n",
       "      <th>Country Availability</th>\n",
       "      <th>Runtime</th>\n",
       "      <th>Director</th>\n",
       "      <th>...</th>\n",
       "      <th>Netflix Release Date</th>\n",
       "      <th>Production House</th>\n",
       "      <th>Netflix Link</th>\n",
       "      <th>IMDb Link</th>\n",
       "      <th>Summary</th>\n",
       "      <th>IMDb Votes</th>\n",
       "      <th>Image</th>\n",
       "      <th>Poster</th>\n",
       "      <th>TMDb Trailer</th>\n",
       "      <th>Trailer Site</th>\n",
       "    </tr>\n",
       "  </thead>\n",
       "  <tbody>\n",
       "    <tr>\n",
       "      <th>0</th>\n",
       "      <td>1</td>\n",
       "      <td>Lets Fight Ghost</td>\n",
       "      <td>Crime, Drama, Fantasy, Horror, Romance</td>\n",
       "      <td>Comedy Programmes,Romantic TV Comedies,Horror ...</td>\n",
       "      <td>Swedish, Spanish</td>\n",
       "      <td>Series</td>\n",
       "      <td>4.3</td>\n",
       "      <td>Thailand</td>\n",
       "      <td>&lt; 30 minutes</td>\n",
       "      <td>Tomas Alfredson</td>\n",
       "      <td>...</td>\n",
       "      <td>2021-03-04</td>\n",
       "      <td>Canal+, Sandrew Metronome</td>\n",
       "      <td>https://www.netflix.com/watch/81415947</td>\n",
       "      <td>https://www.imdb.com/title/tt1139797</td>\n",
       "      <td>A med student with a supernatural gift tries t...</td>\n",
       "      <td>205926.0</td>\n",
       "      <td>https://occ-0-4708-64.1.nflxso.net/dnm/api/v6/...</td>\n",
       "      <td>https://m.media-amazon.com/images/M/MV5BOWM4NT...</td>\n",
       "      <td>https://www.youtube.com/watch?v=LqB6XJix-dM</td>\n",
       "      <td>YouTube</td>\n",
       "    </tr>\n",
       "    <tr>\n",
       "      <th>1</th>\n",
       "      <td>2</td>\n",
       "      <td>HOW TO BUILD A GIRL</td>\n",
       "      <td>Comedy</td>\n",
       "      <td>Dramas,Comedies,Films Based on Books,British</td>\n",
       "      <td>English</td>\n",
       "      <td>Movie</td>\n",
       "      <td>7.0</td>\n",
       "      <td>Canada</td>\n",
       "      <td>1-2 hour</td>\n",
       "      <td>Coky Giedroyc</td>\n",
       "      <td>...</td>\n",
       "      <td>2021-03-04</td>\n",
       "      <td>Film 4, Monumental Pictures, Lionsgate</td>\n",
       "      <td>https://www.netflix.com/watch/81041267</td>\n",
       "      <td>https://www.imdb.com/title/tt4193072</td>\n",
       "      <td>When nerdy Johanna moves to London, things get...</td>\n",
       "      <td>2838.0</td>\n",
       "      <td>https://occ-0-1081-999.1.nflxso.net/dnm/api/v6...</td>\n",
       "      <td>https://m.media-amazon.com/images/M/MV5BZGUyN2...</td>\n",
       "      <td>https://www.youtube.com/watch?v=eIbcxPy4okQ</td>\n",
       "      <td>YouTube</td>\n",
       "    </tr>\n",
       "    <tr>\n",
       "      <th>2</th>\n",
       "      <td>3</td>\n",
       "      <td>The Con-Heartist</td>\n",
       "      <td>Comedy, Romance</td>\n",
       "      <td>Romantic Comedies,Comedies,Romantic Films,Thai...</td>\n",
       "      <td>Thai</td>\n",
       "      <td>Movie</td>\n",
       "      <td>8.6</td>\n",
       "      <td>Thailand</td>\n",
       "      <td>&gt; 2 hrs</td>\n",
       "      <td>Mez Tharatorn</td>\n",
       "      <td>...</td>\n",
       "      <td>2021-03-03</td>\n",
       "      <td>NaN</td>\n",
       "      <td>https://www.netflix.com/watch/81306155</td>\n",
       "      <td>https://www.imdb.com/title/tt13393728</td>\n",
       "      <td>After her ex-boyfriend cons her out of a large...</td>\n",
       "      <td>131.0</td>\n",
       "      <td>https://occ-0-2188-64.1.nflxso.net/dnm/api/v6/...</td>\n",
       "      <td>https://m.media-amazon.com/images/M/MV5BODAzOG...</td>\n",
       "      <td>https://www.youtube.com/watch?v=md3CmFLGK6Y</td>\n",
       "      <td>YouTube</td>\n",
       "    </tr>\n",
       "    <tr>\n",
       "      <th>3</th>\n",
       "      <td>4</td>\n",
       "      <td>Gleboka woda</td>\n",
       "      <td>Drama</td>\n",
       "      <td>TV Dramas,Polish TV Shows,Social Issue TV Dramas</td>\n",
       "      <td>Polish</td>\n",
       "      <td>Series</td>\n",
       "      <td>8.7</td>\n",
       "      <td>Poland</td>\n",
       "      <td>&lt; 30 minutes</td>\n",
       "      <td>NaN</td>\n",
       "      <td>...</td>\n",
       "      <td>2021-03-03</td>\n",
       "      <td>NaN</td>\n",
       "      <td>https://www.netflix.com/watch/81307527</td>\n",
       "      <td>https://www.imdb.com/title/tt2300049</td>\n",
       "      <td>A group of social welfare workers led by their...</td>\n",
       "      <td>47.0</td>\n",
       "      <td>https://occ-0-2508-2706.1.nflxso.net/dnm/api/v...</td>\n",
       "      <td>https://m.media-amazon.com/images/M/MV5BMTc0Nz...</td>\n",
       "      <td>https://www.youtube.com/watch?v=5kyF2vy63r0</td>\n",
       "      <td>YouTube</td>\n",
       "    </tr>\n",
       "    <tr>\n",
       "      <th>4</th>\n",
       "      <td>5</td>\n",
       "      <td>Only a Mother</td>\n",
       "      <td>Drama</td>\n",
       "      <td>Social Issue Dramas,Dramas,Movies Based on Boo...</td>\n",
       "      <td>Swedish</td>\n",
       "      <td>Movie</td>\n",
       "      <td>8.3</td>\n",
       "      <td>Lithuania,Poland,France,Italy,Spain,Greece,Bel...</td>\n",
       "      <td>1-2 hour</td>\n",
       "      <td>Alf Sjöberg</td>\n",
       "      <td>...</td>\n",
       "      <td>2021-03-03</td>\n",
       "      <td>NaN</td>\n",
       "      <td>https://www.netflix.com/watch/81382068</td>\n",
       "      <td>https://www.imdb.com/title/tt0041155</td>\n",
       "      <td>An unhappily married farm worker struggling to...</td>\n",
       "      <td>88.0</td>\n",
       "      <td>https://occ-0-2851-41.1.nflxso.net/dnm/api/v6/...</td>\n",
       "      <td>https://m.media-amazon.com/images/M/MV5BMjVmMz...</td>\n",
       "      <td>https://www.youtube.com/watch?v=H0itWKFwMpQ</td>\n",
       "      <td>YouTube</td>\n",
       "    </tr>\n",
       "  </tbody>\n",
       "</table>\n",
       "<p>5 rows × 30 columns</p>\n",
       "</div>"
      ],
      "text/plain": [
       "   Movie ID                Title                                   Genre  \\\n",
       "0         1     Lets Fight Ghost  Crime, Drama, Fantasy, Horror, Romance   \n",
       "1         2  HOW TO BUILD A GIRL                                  Comedy   \n",
       "2         3     The Con-Heartist                         Comedy, Romance   \n",
       "3         4         Gleboka woda                                   Drama   \n",
       "4         5        Only a Mother                                   Drama   \n",
       "\n",
       "                                                Tags         Languages  \\\n",
       "0  Comedy Programmes,Romantic TV Comedies,Horror ...  Swedish, Spanish   \n",
       "1       Dramas,Comedies,Films Based on Books,British           English   \n",
       "2  Romantic Comedies,Comedies,Romantic Films,Thai...              Thai   \n",
       "3   TV Dramas,Polish TV Shows,Social Issue TV Dramas            Polish   \n",
       "4  Social Issue Dramas,Dramas,Movies Based on Boo...           Swedish   \n",
       "\n",
       "  Series or Movie  Hidden Gem Score  \\\n",
       "0          Series               4.3   \n",
       "1           Movie               7.0   \n",
       "2           Movie               8.6   \n",
       "3          Series               8.7   \n",
       "4           Movie               8.3   \n",
       "\n",
       "                                Country Availability       Runtime  \\\n",
       "0                                           Thailand  < 30 minutes   \n",
       "1                                             Canada      1-2 hour   \n",
       "2                                           Thailand       > 2 hrs   \n",
       "3                                             Poland  < 30 minutes   \n",
       "4  Lithuania,Poland,France,Italy,Spain,Greece,Bel...      1-2 hour   \n",
       "\n",
       "          Director  ... Netflix Release Date  \\\n",
       "0  Tomas Alfredson  ...           2021-03-04   \n",
       "1    Coky Giedroyc  ...           2021-03-04   \n",
       "2    Mez Tharatorn  ...           2021-03-03   \n",
       "3              NaN  ...           2021-03-03   \n",
       "4      Alf Sjöberg  ...           2021-03-03   \n",
       "\n",
       "                         Production House  \\\n",
       "0               Canal+, Sandrew Metronome   \n",
       "1  Film 4, Monumental Pictures, Lionsgate   \n",
       "2                                     NaN   \n",
       "3                                     NaN   \n",
       "4                                     NaN   \n",
       "\n",
       "                             Netflix Link  \\\n",
       "0  https://www.netflix.com/watch/81415947   \n",
       "1  https://www.netflix.com/watch/81041267   \n",
       "2  https://www.netflix.com/watch/81306155   \n",
       "3  https://www.netflix.com/watch/81307527   \n",
       "4  https://www.netflix.com/watch/81382068   \n",
       "\n",
       "                               IMDb Link  \\\n",
       "0   https://www.imdb.com/title/tt1139797   \n",
       "1   https://www.imdb.com/title/tt4193072   \n",
       "2  https://www.imdb.com/title/tt13393728   \n",
       "3   https://www.imdb.com/title/tt2300049   \n",
       "4   https://www.imdb.com/title/tt0041155   \n",
       "\n",
       "                                             Summary  IMDb Votes  \\\n",
       "0  A med student with a supernatural gift tries t...    205926.0   \n",
       "1  When nerdy Johanna moves to London, things get...      2838.0   \n",
       "2  After her ex-boyfriend cons her out of a large...       131.0   \n",
       "3  A group of social welfare workers led by their...        47.0   \n",
       "4  An unhappily married farm worker struggling to...        88.0   \n",
       "\n",
       "                                               Image  \\\n",
       "0  https://occ-0-4708-64.1.nflxso.net/dnm/api/v6/...   \n",
       "1  https://occ-0-1081-999.1.nflxso.net/dnm/api/v6...   \n",
       "2  https://occ-0-2188-64.1.nflxso.net/dnm/api/v6/...   \n",
       "3  https://occ-0-2508-2706.1.nflxso.net/dnm/api/v...   \n",
       "4  https://occ-0-2851-41.1.nflxso.net/dnm/api/v6/...   \n",
       "\n",
       "                                              Poster  \\\n",
       "0  https://m.media-amazon.com/images/M/MV5BOWM4NT...   \n",
       "1  https://m.media-amazon.com/images/M/MV5BZGUyN2...   \n",
       "2  https://m.media-amazon.com/images/M/MV5BODAzOG...   \n",
       "3  https://m.media-amazon.com/images/M/MV5BMTc0Nz...   \n",
       "4  https://m.media-amazon.com/images/M/MV5BMjVmMz...   \n",
       "\n",
       "                                  TMDb Trailer Trailer Site  \n",
       "0  https://www.youtube.com/watch?v=LqB6XJix-dM      YouTube  \n",
       "1  https://www.youtube.com/watch?v=eIbcxPy4okQ      YouTube  \n",
       "2  https://www.youtube.com/watch?v=md3CmFLGK6Y      YouTube  \n",
       "3  https://www.youtube.com/watch?v=5kyF2vy63r0      YouTube  \n",
       "4  https://www.youtube.com/watch?v=H0itWKFwMpQ      YouTube  \n",
       "\n",
       "[5 rows x 30 columns]"
      ]
     },
     "execution_count": 5,
     "metadata": {},
     "output_type": "execute_result"
    }
   ],
   "source": [
    "df.head(5)"
   ]
  },
  {
   "cell_type": "code",
   "execution_count": 6,
   "id": "0712a9ff",
   "metadata": {},
   "outputs": [
    {
     "data": {
      "text/html": [
       "<div>\n",
       "<style scoped>\n",
       "    .dataframe tbody tr th:only-of-type {\n",
       "        vertical-align: middle;\n",
       "    }\n",
       "\n",
       "    .dataframe tbody tr th {\n",
       "        vertical-align: top;\n",
       "    }\n",
       "\n",
       "    .dataframe thead th {\n",
       "        text-align: right;\n",
       "    }\n",
       "</style>\n",
       "<table border=\"1\" class=\"dataframe\">\n",
       "  <thead>\n",
       "    <tr style=\"text-align: right;\">\n",
       "      <th></th>\n",
       "      <th>userId</th>\n",
       "      <th>movieId</th>\n",
       "      <th>rating</th>\n",
       "      <th>timestamp</th>\n",
       "    </tr>\n",
       "  </thead>\n",
       "  <tbody>\n",
       "    <tr>\n",
       "      <th>0</th>\n",
       "      <td>1.0</td>\n",
       "      <td>1.0</td>\n",
       "      <td>4.0</td>\n",
       "      <td>964982703.0</td>\n",
       "    </tr>\n",
       "    <tr>\n",
       "      <th>1</th>\n",
       "      <td>1.0</td>\n",
       "      <td>3.0</td>\n",
       "      <td>4.0</td>\n",
       "      <td>964981247.0</td>\n",
       "    </tr>\n",
       "    <tr>\n",
       "      <th>2</th>\n",
       "      <td>1.0</td>\n",
       "      <td>6.0</td>\n",
       "      <td>4.0</td>\n",
       "      <td>964982224.0</td>\n",
       "    </tr>\n",
       "    <tr>\n",
       "      <th>3</th>\n",
       "      <td>1.0</td>\n",
       "      <td>47.0</td>\n",
       "      <td>5.0</td>\n",
       "      <td>964983815.0</td>\n",
       "    </tr>\n",
       "    <tr>\n",
       "      <th>4</th>\n",
       "      <td>1.0</td>\n",
       "      <td>50.0</td>\n",
       "      <td>5.0</td>\n",
       "      <td>964982931.0</td>\n",
       "    </tr>\n",
       "  </tbody>\n",
       "</table>\n",
       "</div>"
      ],
      "text/plain": [
       "   userId  movieId  rating    timestamp\n",
       "0     1.0      1.0     4.0  964982703.0\n",
       "1     1.0      3.0     4.0  964981247.0\n",
       "2     1.0      6.0     4.0  964982224.0\n",
       "3     1.0     47.0     5.0  964983815.0\n",
       "4     1.0     50.0     5.0  964982931.0"
      ]
     },
     "execution_count": 6,
     "metadata": {},
     "output_type": "execute_result"
    }
   ],
   "source": [
    "dff.head(5)"
   ]
  },
  {
   "cell_type": "markdown",
   "id": "98cda32b",
   "metadata": {},
   "source": [
    "# Exploratory Data Analysis "
   ]
  },
  {
   "cell_type": "code",
   "execution_count": 7,
   "id": "8f57335a",
   "metadata": {},
   "outputs": [
    {
     "name": "stdout",
     "output_type": "stream",
     "text": [
      "<class 'pandas.core.frame.DataFrame'>\n",
      "RangeIndex: 9425 entries, 0 to 9424\n",
      "Data columns (total 30 columns):\n",
      " #   Column                 Non-Null Count  Dtype         \n",
      "---  ------                 --------------  -----         \n",
      " 0   Movie ID               9425 non-null   int64         \n",
      " 1   Title                  9425 non-null   object        \n",
      " 2   Genre                  9400 non-null   object        \n",
      " 3   Tags                   9389 non-null   object        \n",
      " 4   Languages              9266 non-null   object        \n",
      " 5   Series or Movie        9425 non-null   object        \n",
      " 6   Hidden Gem Score       9415 non-null   float64       \n",
      " 7   Country Availability   9414 non-null   object        \n",
      " 8   Runtime                9424 non-null   object        \n",
      " 9   Director               7120 non-null   object        \n",
      " 10  Writer                 7615 non-null   object        \n",
      " 11  Actors                 9314 non-null   object        \n",
      " 12  View Rating            6827 non-null   object        \n",
      " 13  IMDb Score             9417 non-null   float64       \n",
      " 14  Rotten Tomatoes Score  5445 non-null   float64       \n",
      " 15  Metacritic Score       4082 non-null   float64       \n",
      " 16  Awards Received        5226 non-null   float64       \n",
      " 17  Awards Nominated For   6376 non-null   float64       \n",
      " 18  Boxoffice              3754 non-null   float64       \n",
      " 19  Release Date           9217 non-null   datetime64[ns]\n",
      " 20  Netflix Release Date   9425 non-null   datetime64[ns]\n",
      " 21  Production House       4393 non-null   object        \n",
      " 22  Netflix Link           9425 non-null   object        \n",
      " 23  IMDb Link              9101 non-null   object        \n",
      " 24  Summary                9420 non-null   object        \n",
      " 25  IMDb Votes             9415 non-null   float64       \n",
      " 26  Image                  9425 non-null   object        \n",
      " 27  Poster                 8487 non-null   object        \n",
      " 28  TMDb Trailer           9425 non-null   object        \n",
      " 29  Trailer Site           9424 non-null   object        \n",
      "dtypes: datetime64[ns](2), float64(8), int64(1), object(19)\n",
      "memory usage: 2.2+ MB\n"
     ]
    }
   ],
   "source": [
    "df.info()"
   ]
  },
  {
   "cell_type": "code",
   "execution_count": 8,
   "id": "d7cf6863",
   "metadata": {},
   "outputs": [
    {
     "name": "stdout",
     "output_type": "stream",
     "text": [
      "<class 'pandas.core.frame.DataFrame'>\n",
      "RangeIndex: 100074 entries, 0 to 100073\n",
      "Data columns (total 4 columns):\n",
      " #   Column     Non-Null Count  Dtype  \n",
      "---  ------     --------------  -----  \n",
      " 0   userId     77939 non-null  float64\n",
      " 1   movieId    77939 non-null  float64\n",
      " 2   rating     77939 non-null  float64\n",
      " 3   timestamp  77939 non-null  float64\n",
      "dtypes: float64(4)\n",
      "memory usage: 3.1 MB\n"
     ]
    }
   ],
   "source": [
    "dff.info()"
   ]
  },
  {
   "cell_type": "markdown",
   "id": "56eaf6c1",
   "metadata": {},
   "source": [
    "## Feature selection"
   ]
  },
  {
   "cell_type": "code",
   "execution_count": 9,
   "id": "a3db35aa",
   "metadata": {},
   "outputs": [
    {
     "data": {
      "text/html": [
       "<div>\n",
       "<style scoped>\n",
       "    .dataframe tbody tr th:only-of-type {\n",
       "        vertical-align: middle;\n",
       "    }\n",
       "\n",
       "    .dataframe tbody tr th {\n",
       "        vertical-align: top;\n",
       "    }\n",
       "\n",
       "    .dataframe thead th {\n",
       "        text-align: right;\n",
       "    }\n",
       "</style>\n",
       "<table border=\"1\" class=\"dataframe\">\n",
       "  <thead>\n",
       "    <tr style=\"text-align: right;\">\n",
       "      <th></th>\n",
       "      <th>Movie ID</th>\n",
       "      <th>Title</th>\n",
       "      <th>Genre</th>\n",
       "      <th>Tags</th>\n",
       "      <th>Director</th>\n",
       "      <th>Actors</th>\n",
       "      <th>Summary</th>\n",
       "    </tr>\n",
       "  </thead>\n",
       "  <tbody>\n",
       "    <tr>\n",
       "      <th>0</th>\n",
       "      <td>1</td>\n",
       "      <td>Lets Fight Ghost</td>\n",
       "      <td>Crime, Drama, Fantasy, Horror, Romance</td>\n",
       "      <td>Comedy Programmes,Romantic TV Comedies,Horror ...</td>\n",
       "      <td>Tomas Alfredson</td>\n",
       "      <td>Lina Leandersson, Kåre Hedebrant, Per Ragnar, ...</td>\n",
       "      <td>A med student with a supernatural gift tries t...</td>\n",
       "    </tr>\n",
       "    <tr>\n",
       "      <th>1</th>\n",
       "      <td>2</td>\n",
       "      <td>HOW TO BUILD A GIRL</td>\n",
       "      <td>Comedy</td>\n",
       "      <td>Dramas,Comedies,Films Based on Books,British</td>\n",
       "      <td>Coky Giedroyc</td>\n",
       "      <td>Cleo, Paddy Considine, Beanie Feldstein, Dónal...</td>\n",
       "      <td>When nerdy Johanna moves to London, things get...</td>\n",
       "    </tr>\n",
       "    <tr>\n",
       "      <th>2</th>\n",
       "      <td>3</td>\n",
       "      <td>The Con-Heartist</td>\n",
       "      <td>Comedy, Romance</td>\n",
       "      <td>Romantic Comedies,Comedies,Romantic Films,Thai...</td>\n",
       "      <td>Mez Tharatorn</td>\n",
       "      <td>Kathaleeya McIntosh, Nadech Kugimiya, Pimchano...</td>\n",
       "      <td>After her ex-boyfriend cons her out of a large...</td>\n",
       "    </tr>\n",
       "    <tr>\n",
       "      <th>3</th>\n",
       "      <td>4</td>\n",
       "      <td>Gleboka woda</td>\n",
       "      <td>Drama</td>\n",
       "      <td>TV Dramas,Polish TV Shows,Social Issue TV Dramas</td>\n",
       "      <td>NaN</td>\n",
       "      <td>Katarzyna Maciag, Piotr Nowak, Marcin Dorocins...</td>\n",
       "      <td>A group of social welfare workers led by their...</td>\n",
       "    </tr>\n",
       "    <tr>\n",
       "      <th>4</th>\n",
       "      <td>5</td>\n",
       "      <td>Only a Mother</td>\n",
       "      <td>Drama</td>\n",
       "      <td>Social Issue Dramas,Dramas,Movies Based on Boo...</td>\n",
       "      <td>Alf Sjöberg</td>\n",
       "      <td>Hugo Björne, Eva Dahlbeck, Ulf Palme, Ragnar F...</td>\n",
       "      <td>An unhappily married farm worker struggling to...</td>\n",
       "    </tr>\n",
       "  </tbody>\n",
       "</table>\n",
       "</div>"
      ],
      "text/plain": [
       "   Movie ID                Title                                   Genre  \\\n",
       "0         1     Lets Fight Ghost  Crime, Drama, Fantasy, Horror, Romance   \n",
       "1         2  HOW TO BUILD A GIRL                                  Comedy   \n",
       "2         3     The Con-Heartist                         Comedy, Romance   \n",
       "3         4         Gleboka woda                                   Drama   \n",
       "4         5        Only a Mother                                   Drama   \n",
       "\n",
       "                                                Tags         Director  \\\n",
       "0  Comedy Programmes,Romantic TV Comedies,Horror ...  Tomas Alfredson   \n",
       "1       Dramas,Comedies,Films Based on Books,British    Coky Giedroyc   \n",
       "2  Romantic Comedies,Comedies,Romantic Films,Thai...    Mez Tharatorn   \n",
       "3   TV Dramas,Polish TV Shows,Social Issue TV Dramas              NaN   \n",
       "4  Social Issue Dramas,Dramas,Movies Based on Boo...      Alf Sjöberg   \n",
       "\n",
       "                                              Actors  \\\n",
       "0  Lina Leandersson, Kåre Hedebrant, Per Ragnar, ...   \n",
       "1  Cleo, Paddy Considine, Beanie Feldstein, Dónal...   \n",
       "2  Kathaleeya McIntosh, Nadech Kugimiya, Pimchano...   \n",
       "3  Katarzyna Maciag, Piotr Nowak, Marcin Dorocins...   \n",
       "4  Hugo Björne, Eva Dahlbeck, Ulf Palme, Ragnar F...   \n",
       "\n",
       "                                             Summary  \n",
       "0  A med student with a supernatural gift tries t...  \n",
       "1  When nerdy Johanna moves to London, things get...  \n",
       "2  After her ex-boyfriend cons her out of a large...  \n",
       "3  A group of social welfare workers led by their...  \n",
       "4  An unhappily married farm worker struggling to...  "
      ]
     },
     "execution_count": 9,
     "metadata": {},
     "output_type": "execute_result"
    }
   ],
   "source": [
    "# Creating new dataframe with required columns\n",
    "df_ml=df[['Movie ID','Title', 'Genre', 'Tags','Director', 'Actors', 'Summary']]\n",
    "df_ml.head(5)"
   ]
  },
  {
   "cell_type": "code",
   "execution_count": 10,
   "id": "9e766e14",
   "metadata": {},
   "outputs": [
    {
     "data": {
      "text/plain": [
       "Movie ID       0\n",
       "Title          0\n",
       "Genre         25\n",
       "Tags          36\n",
       "Director    2305\n",
       "Actors       111\n",
       "Summary        5\n",
       "dtype: int64"
      ]
     },
     "execution_count": 10,
     "metadata": {},
     "output_type": "execute_result"
    }
   ],
   "source": [
    "# Check for null values\n",
    "df_ml.isnull().sum()"
   ]
  },
  {
   "cell_type": "code",
   "execution_count": 11,
   "id": "40ae42dc",
   "metadata": {},
   "outputs": [],
   "source": [
    "# filling null values with 'NotSpecified'\n",
    "df_ml.fillna(\"NotSpecified\",inplace=True)"
   ]
  },
  {
   "cell_type": "code",
   "execution_count": 12,
   "id": "a09ff32d",
   "metadata": {},
   "outputs": [],
   "source": [
    "# droping NotSpecified values of summary column\n",
    "df_ml = df_ml[df_ml.Summary != 'NotSpecified']"
   ]
  },
  {
   "cell_type": "code",
   "execution_count": 13,
   "id": "a5b66001",
   "metadata": {},
   "outputs": [],
   "source": [
    "# dropping duplicate values from Title column\n",
    "df_ml.drop_duplicates(subset=['Title'],inplace=True)"
   ]
  },
  {
   "cell_type": "code",
   "execution_count": 25,
   "id": "d0530015",
   "metadata": {},
   "outputs": [
    {
     "data": {
      "text/plain": [
       "(9161, 7)"
      ]
     },
     "execution_count": 25,
     "metadata": {},
     "output_type": "execute_result"
    }
   ],
   "source": [
    "df_ml.shape"
   ]
  },
  {
   "cell_type": "code",
   "execution_count": 14,
   "id": "e76651be",
   "metadata": {},
   "outputs": [
    {
     "data": {
      "text/plain": [
       "userId       22135\n",
       "movieId      22135\n",
       "rating       22135\n",
       "timestamp    22135\n",
       "dtype: int64"
      ]
     },
     "execution_count": 14,
     "metadata": {},
     "output_type": "execute_result"
    }
   ],
   "source": [
    "# checking for null values for dff dataframe\n",
    "dff.isna().sum()"
   ]
  },
  {
   "cell_type": "code",
   "execution_count": 15,
   "id": "794a892f",
   "metadata": {},
   "outputs": [],
   "source": [
    "dff.fillna(\"No value\", inplace = True)\n",
    "dff = dff[dff['userId']!='No value']"
   ]
  },
  {
   "cell_type": "code",
   "execution_count": 16,
   "id": "eb6214ec",
   "metadata": {},
   "outputs": [
    {
     "data": {
      "text/plain": [
       "(77939, 4)"
      ]
     },
     "execution_count": 16,
     "metadata": {},
     "output_type": "execute_result"
    }
   ],
   "source": [
    "dff.shape"
   ]
  },
  {
   "cell_type": "markdown",
   "id": "867ecfcc",
   "metadata": {},
   "source": [
    "## Data Visualization"
   ]
  },
  {
   "cell_type": "markdown",
   "id": "6988576c",
   "metadata": {},
   "source": [
    "### Top 10 Directors "
   ]
  },
  {
   "cell_type": "code",
   "execution_count": 18,
   "id": "2f9c37f5",
   "metadata": {},
   "outputs": [],
   "source": [
    "# splitting Director column \n",
    "df2=df_ml['Director'].str.split(',',expand=True).stack()\n",
    "\n",
    "# creating new dataframe with column name as Directors\n",
    "df3=pd.DataFrame(df2,columns=['Directors'])"
   ]
  },
  {
   "cell_type": "code",
   "execution_count": 19,
   "id": "961a4737",
   "metadata": {},
   "outputs": [],
   "source": [
    "# grouping by Directors to get total content directed by each director\n",
    "grp_director=df3.groupby(['Directors']).size().reset_index(name='Total Content')\n",
    "\n",
    "# removing 'Not specified' values from Directors columns \n",
    "directors=grp_director[grp_director.Directors !='NotSpecified']\n",
    "directors=directors.sort_values(by=['Total Content'],ascending=False)\n",
    "top_directors=directors.head(10)\n"
   ]
  },
  {
   "cell_type": "code",
   "execution_count": 20,
   "id": "8a871e74",
   "metadata": {},
   "outputs": [
    {
     "data": {
      "image/png": "[encoded data removed]",
      "text/plain": [
       "<Figure size 800x500 with 1 Axes>"
      ]
     },
     "metadata": {
      "needs_background": "light"
     },
     "output_type": "display_data"
    }
   ],
   "source": [
    "# plotting Top 10 Directors on Netflix\n",
    "plt.figure(figsize=(8,5), dpi=100)\n",
    "plt.bar(top_directors['Directors'], top_directors['Total Content'])\n",
    "plt.title(\"Top 10 Directors on Netflix\",fontsize=15)\n",
    "plt.xlabel(\"Directors\")\n",
    "plt.ylabel(\"Total Content\")\n",
    "plt.xticks(rotation=75)\n",
    "plt.show()"
   ]
  },
  {
   "cell_type": "markdown",
   "id": "a9795ce3",
   "metadata": {},
   "source": [
    "Top 5 Directors on this plateform are:                                                           \n",
    "    * Steven Spielberg                                        \n",
    "    * Woody Allen                                              \n",
    "    * Ridley Scott                                                    \n",
    "    * Steven Soderbergh                                              \n",
    "    * Clint Eastwood "
   ]
  },
  {
   "cell_type": "markdown",
   "id": "b43399c3",
   "metadata": {},
   "source": [
    "### Top 10 Actors"
   ]
  },
  {
   "cell_type": "code",
   "execution_count": 21,
   "id": "bb5f528c",
   "metadata": {},
   "outputs": [],
   "source": [
    "# splitting Actors column \n",
    "df4=df_ml['Actors'].str.split(',',expand=True).stack()\n",
    "# creating new dataframe with column name as Actors\n",
    "df5=pd.DataFrame(df4,columns=['Actors'])"
   ]
  },
  {
   "cell_type": "code",
   "execution_count": 22,
   "id": "a548eb7d",
   "metadata": {},
   "outputs": [],
   "source": [
    "# grouping by Actors to get total content of each Actor\n",
    "grp_Actors=df5.groupby(['Actors']).size().reset_index(name='Total Content')\n",
    "# removing 'Not specified' values from Directors columns \n",
    "Actors=grp_Actors[grp_Actors.Actors !='NotSpecified']\n",
    "Actors=Actors.sort_values(by=['Total Content'],ascending=False)\n",
    "top_Actors=Actors.head(10)"
   ]
  },
  {
   "cell_type": "code",
   "execution_count": 23,
   "id": "e5f6b7b2",
   "metadata": {},
   "outputs": [
    {
     "data": {
      "image/png": "[encoded data removed]",
      "text/plain": [
       "<Figure size 640x400 with 1 Axes>"
      ]
     },
     "metadata": {
      "needs_background": "light"
     },
     "output_type": "display_data"
    }
   ],
   "source": [
    "# plotting Top 10 Actors on Netflix\n",
    "plt.figure(figsize=(8,5), dpi=80)\n",
    "plt.bar(top_Actors['Actors'], top_directors['Total Content'])\n",
    "plt.title(\"Top 10 Actors on Netflix\",fontsize=15)\n",
    "plt.xlabel(\"Actors\")\n",
    "plt.ylabel(\"Total Content\")\n",
    "plt.xticks(rotation=75)\n",
    "plt.show()"
   ]
  },
  {
   "cell_type": "markdown",
   "id": "57849b3f",
   "metadata": {},
   "source": [
    "Top 5 Actors on this plateform are:                                                                                                             \n",
    "    * Liam Neeson                                                                                                   \n",
    "    * Robert De Niro                                                                                             \n",
    "    * Jackie Chan                                                                                                                      \n",
    "    * Mark Wahlberg                                                                                                           \n",
    "    * Bruce Willis "
   ]
  },
  {
   "cell_type": "markdown",
   "id": "ebd566b8",
   "metadata": {},
   "source": [
    "###  Top Genres on Netflix"
   ]
  },
  {
   "cell_type": "code",
   "execution_count": 24,
   "id": "efb0c4c1",
   "metadata": {},
   "outputs": [
    {
     "data": {
      "image/png": "[encoded data removed]",
      "text/plain": [
       "<Figure size 720x720 with 1 Axes>"
      ]
     },
     "metadata": {
      "needs_background": "light"
     },
     "output_type": "display_data"
    }
   ],
   "source": [
    "# setting Title column as index and spliting values of Genre column\n",
    "filtered_genres = df_ml.set_index('Title').Genre.str.split(', ', expand=True).stack().reset_index(level=1, drop=True);\n",
    "# plotting Top 10 Genres on Netflix\n",
    "plt.figure(figsize=(10,10))\n",
    "g = sns.countplot(y = filtered_genres, order=filtered_genres.value_counts().index[:10])\n",
    "plt.title('Top 10 Genres on Netflix',fontsize=15)\n",
    "plt.xlabel('Titles')\n",
    "plt.ylabel('Genres')\n",
    "plt.show()"
   ]
  },
  {
   "cell_type": "markdown",
   "id": "93b2ab9e",
   "metadata": {},
   "source": [
    "Most watched content is of Genre Drama."
   ]
  },
  {
   "cell_type": "markdown",
   "id": "4eb973e9",
   "metadata": {},
   "source": [
    "#                                         Data Modeling"
   ]
  },
  {
   "cell_type": "markdown",
   "id": "1757f1ab",
   "metadata": {},
   "source": [
    "## 1. Content-Based Recommender system"
   ]
  },
  {
   "cell_type": "markdown",
   "id": "8c06de6c",
   "metadata": {},
   "source": [
    "### Data Pre-processing"
   ]
  },
  {
   "cell_type": "code",
   "execution_count": 26,
   "id": "b9a9169b",
   "metadata": {},
   "outputs": [],
   "source": [
    "# Splitting columns based on delimiters :\n",
    "df_ml['Summary']=df_ml['Summary'].apply(lambda x: x.split(\" \"))\n",
    "df_ml['Genre']=df_ml['Genre'].apply(lambda x: x.split(\",\"))\n",
    "df_ml['Tags']=df_ml['Tags'].apply(lambda x: x.split(\",\"))\n",
    "df_ml['Actors']=df_ml['Actors'].apply(lambda x: x.split(\",\"))\n",
    "df_ml['Director']=df_ml['Director'].apply(lambda x: str(x).split(\",\"))\n",
    "\n"
   ]
  },
  {
   "cell_type": "code",
   "execution_count": 27,
   "id": "ed7f804e",
   "metadata": {},
   "outputs": [],
   "source": [
    "# creating a new title column for creating a tag of each title, converting values of title column from string to list type\n",
    "df_ml['title'] = df_ml['Title']\n",
    "df_ml['title'] = df_ml['title'].apply(lambda x: [str(x)])    "
   ]
  },
  {
   "cell_type": "code",
   "execution_count": 28,
   "id": "4b05ee21",
   "metadata": {},
   "outputs": [],
   "source": [
    "# creating a function to remove space beween comma separated string of Genre, Tags, Directors and Actors column\n",
    "def collapse(L):\n",
    "    L1 = []\n",
    "    for i in L:\n",
    "        L1.append(i.replace(\" \",\"\"))\n",
    "    return L1"
   ]
  },
  {
   "cell_type": "code",
   "execution_count": 29,
   "id": "f0350cf9",
   "metadata": {},
   "outputs": [],
   "source": [
    "for column in df_ml.iloc[:,2:-2]:\n",
    "    df_ml[column]=df_ml[column].apply(collapse)\n",
    "    "
   ]
  },
  {
   "cell_type": "code",
   "execution_count": 30,
   "id": "6343635f",
   "metadata": {},
   "outputs": [
    {
     "data": {
      "text/html": [
       "<div>\n",
       "<style scoped>\n",
       "    .dataframe tbody tr th:only-of-type {\n",
       "        vertical-align: middle;\n",
       "    }\n",
       "\n",
       "    .dataframe tbody tr th {\n",
       "        vertical-align: top;\n",
       "    }\n",
       "\n",
       "    .dataframe thead th {\n",
       "        text-align: right;\n",
       "    }\n",
       "</style>\n",
       "<table border=\"1\" class=\"dataframe\">\n",
       "  <thead>\n",
       "    <tr style=\"text-align: right;\">\n",
       "      <th></th>\n",
       "      <th>Movie ID</th>\n",
       "      <th>Title</th>\n",
       "      <th>Genre</th>\n",
       "      <th>Tags</th>\n",
       "      <th>Director</th>\n",
       "      <th>Actors</th>\n",
       "      <th>Summary</th>\n",
       "      <th>title</th>\n",
       "    </tr>\n",
       "  </thead>\n",
       "  <tbody>\n",
       "    <tr>\n",
       "      <th>0</th>\n",
       "      <td>1</td>\n",
       "      <td>Lets Fight Ghost</td>\n",
       "      <td>[Crime, Drama, Fantasy, Horror, Romance]</td>\n",
       "      <td>[ComedyProgrammes, RomanticTVComedies, HorrorP...</td>\n",
       "      <td>[TomasAlfredson]</td>\n",
       "      <td>[LinaLeandersson, KåreHedebrant, PerRagnar, He...</td>\n",
       "      <td>[A, med, student, with, a, supernatural, gift,...</td>\n",
       "      <td>[Lets Fight Ghost]</td>\n",
       "    </tr>\n",
       "    <tr>\n",
       "      <th>1</th>\n",
       "      <td>2</td>\n",
       "      <td>HOW TO BUILD A GIRL</td>\n",
       "      <td>[Comedy]</td>\n",
       "      <td>[Dramas, Comedies, FilmsBasedonBooks, British]</td>\n",
       "      <td>[CokyGiedroyc]</td>\n",
       "      <td>[Cleo, PaddyConsidine, BeanieFeldstein, DónalF...</td>\n",
       "      <td>[When, nerdy, Johanna, moves, to, London,, thi...</td>\n",
       "      <td>[HOW TO BUILD A GIRL]</td>\n",
       "    </tr>\n",
       "    <tr>\n",
       "      <th>2</th>\n",
       "      <td>3</td>\n",
       "      <td>The Con-Heartist</td>\n",
       "      <td>[Comedy, Romance]</td>\n",
       "      <td>[RomanticComedies, Comedies, RomanticFilms, Th...</td>\n",
       "      <td>[MezTharatorn]</td>\n",
       "      <td>[KathaleeyaMcIntosh, NadechKugimiya, Pimchanok...</td>\n",
       "      <td>[After, her, ex-boyfriend, cons, her, out, of,...</td>\n",
       "      <td>[The Con-Heartist]</td>\n",
       "    </tr>\n",
       "    <tr>\n",
       "      <th>3</th>\n",
       "      <td>4</td>\n",
       "      <td>Gleboka woda</td>\n",
       "      <td>[Drama]</td>\n",
       "      <td>[TVDramas, PolishTVShows, SocialIssueTVDramas]</td>\n",
       "      <td>[NotSpecified]</td>\n",
       "      <td>[KatarzynaMaciag, PiotrNowak, MarcinDorocinski...</td>\n",
       "      <td>[A, group, of, social, welfare, workers, led, ...</td>\n",
       "      <td>[Gleboka woda]</td>\n",
       "    </tr>\n",
       "    <tr>\n",
       "      <th>4</th>\n",
       "      <td>5</td>\n",
       "      <td>Only a Mother</td>\n",
       "      <td>[Drama]</td>\n",
       "      <td>[SocialIssueDramas, Dramas, MoviesBasedonBooks...</td>\n",
       "      <td>[AlfSjöberg]</td>\n",
       "      <td>[HugoBjörne, EvaDahlbeck, UlfPalme, RagnarFalck]</td>\n",
       "      <td>[An, unhappily, married, farm, worker, struggl...</td>\n",
       "      <td>[Only a Mother]</td>\n",
       "    </tr>\n",
       "  </tbody>\n",
       "</table>\n",
       "</div>"
      ],
      "text/plain": [
       "   Movie ID                Title                                     Genre  \\\n",
       "0         1     Lets Fight Ghost  [Crime, Drama, Fantasy, Horror, Romance]   \n",
       "1         2  HOW TO BUILD A GIRL                                  [Comedy]   \n",
       "2         3     The Con-Heartist                         [Comedy, Romance]   \n",
       "3         4         Gleboka woda                                   [Drama]   \n",
       "4         5        Only a Mother                                   [Drama]   \n",
       "\n",
       "                                                Tags          Director  \\\n",
       "0  [ComedyProgrammes, RomanticTVComedies, HorrorP...  [TomasAlfredson]   \n",
       "1     [Dramas, Comedies, FilmsBasedonBooks, British]    [CokyGiedroyc]   \n",
       "2  [RomanticComedies, Comedies, RomanticFilms, Th...    [MezTharatorn]   \n",
       "3     [TVDramas, PolishTVShows, SocialIssueTVDramas]    [NotSpecified]   \n",
       "4  [SocialIssueDramas, Dramas, MoviesBasedonBooks...      [AlfSjöberg]   \n",
       "\n",
       "                                              Actors  \\\n",
       "0  [LinaLeandersson, KåreHedebrant, PerRagnar, He...   \n",
       "1  [Cleo, PaddyConsidine, BeanieFeldstein, DónalF...   \n",
       "2  [KathaleeyaMcIntosh, NadechKugimiya, Pimchanok...   \n",
       "3  [KatarzynaMaciag, PiotrNowak, MarcinDorocinski...   \n",
       "4   [HugoBjörne, EvaDahlbeck, UlfPalme, RagnarFalck]   \n",
       "\n",
       "                                             Summary                  title  \n",
       "0  [A, med, student, with, a, supernatural, gift,...     [Lets Fight Ghost]  \n",
       "1  [When, nerdy, Johanna, moves, to, London,, thi...  [HOW TO BUILD A GIRL]  \n",
       "2  [After, her, ex-boyfriend, cons, her, out, of,...     [The Con-Heartist]  \n",
       "3  [A, group, of, social, welfare, workers, led, ...         [Gleboka woda]  \n",
       "4  [An, unhappily, married, farm, worker, struggl...        [Only a Mother]  "
      ]
     },
     "execution_count": 30,
     "metadata": {},
     "output_type": "execute_result"
    }
   ],
   "source": [
    "df_ml.head()"
   ]
  },
  {
   "cell_type": "code",
   "execution_count": 31,
   "id": "5091a390",
   "metadata": {},
   "outputs": [],
   "source": [
    "# Creating newTags column :\n",
    "df_ml['newTags'] = df_ml['Summary'] + df_ml['Director'] + df_ml['Genre'] + df_ml['Tags'] + df_ml['title']"
   ]
  },
  {
   "cell_type": "code",
   "execution_count": 32,
   "id": "2aaa00e8",
   "metadata": {},
   "outputs": [],
   "source": [
    "# Creating a new dataframe final_df :\n",
    "final_df =  df_ml[['Movie ID','Title','newTags']]"
   ]
  },
  {
   "cell_type": "code",
   "execution_count": 33,
   "id": "bbc2f2de",
   "metadata": {},
   "outputs": [],
   "source": [
    "final_df = final_df[final_df['Movie ID']!='NotSpecified']"
   ]
  },
  {
   "cell_type": "code",
   "execution_count": 34,
   "id": "330e92f8",
   "metadata": {},
   "outputs": [],
   "source": [
    "final_df['Movie ID'] = final_df['Movie ID'].astype(float).astype('int')"
   ]
  },
  {
   "cell_type": "code",
   "execution_count": 35,
   "id": "3e6fc521",
   "metadata": {},
   "outputs": [],
   "source": [
    "# joining the newTags :\n",
    "final_df['newTags'] = final_df['newTags'].apply(lambda x:\" \".join(x))"
   ]
  },
  {
   "cell_type": "code",
   "execution_count": 36,
   "id": "6830cd02",
   "metadata": {},
   "outputs": [
    {
     "data": {
      "text/html": [
       "<div>\n",
       "<style scoped>\n",
       "    .dataframe tbody tr th:only-of-type {\n",
       "        vertical-align: middle;\n",
       "    }\n",
       "\n",
       "    .dataframe tbody tr th {\n",
       "        vertical-align: top;\n",
       "    }\n",
       "\n",
       "    .dataframe thead th {\n",
       "        text-align: right;\n",
       "    }\n",
       "</style>\n",
       "<table border=\"1\" class=\"dataframe\">\n",
       "  <thead>\n",
       "    <tr style=\"text-align: right;\">\n",
       "      <th></th>\n",
       "      <th>Movie ID</th>\n",
       "      <th>Title</th>\n",
       "      <th>newTags</th>\n",
       "    </tr>\n",
       "  </thead>\n",
       "  <tbody>\n",
       "    <tr>\n",
       "      <th>0</th>\n",
       "      <td>1</td>\n",
       "      <td>Lets Fight Ghost</td>\n",
       "      <td>A med student with a supernatural gift tries t...</td>\n",
       "    </tr>\n",
       "    <tr>\n",
       "      <th>1</th>\n",
       "      <td>2</td>\n",
       "      <td>HOW TO BUILD A GIRL</td>\n",
       "      <td>When nerdy Johanna moves to London, things get...</td>\n",
       "    </tr>\n",
       "    <tr>\n",
       "      <th>2</th>\n",
       "      <td>3</td>\n",
       "      <td>The Con-Heartist</td>\n",
       "      <td>After her ex-boyfriend cons her out of a large...</td>\n",
       "    </tr>\n",
       "    <tr>\n",
       "      <th>3</th>\n",
       "      <td>4</td>\n",
       "      <td>Gleboka woda</td>\n",
       "      <td>A group of social welfare workers led by their...</td>\n",
       "    </tr>\n",
       "    <tr>\n",
       "      <th>4</th>\n",
       "      <td>5</td>\n",
       "      <td>Only a Mother</td>\n",
       "      <td>An unhappily married farm worker struggling to...</td>\n",
       "    </tr>\n",
       "  </tbody>\n",
       "</table>\n",
       "</div>"
      ],
      "text/plain": [
       "   Movie ID                Title  \\\n",
       "0         1     Lets Fight Ghost   \n",
       "1         2  HOW TO BUILD A GIRL   \n",
       "2         3     The Con-Heartist   \n",
       "3         4         Gleboka woda   \n",
       "4         5        Only a Mother   \n",
       "\n",
       "                                             newTags  \n",
       "0  A med student with a supernatural gift tries t...  \n",
       "1  When nerdy Johanna moves to London, things get...  \n",
       "2  After her ex-boyfriend cons her out of a large...  \n",
       "3  A group of social welfare workers led by their...  \n",
       "4  An unhappily married farm worker struggling to...  "
      ]
     },
     "execution_count": 36,
     "metadata": {},
     "output_type": "execute_result"
    }
   ],
   "source": [
    "final_df.head()"
   ]
  },
  {
   "cell_type": "code",
   "execution_count": null,
   "id": "78321819",
   "metadata": {},
   "outputs": [],
   "source": []
  },
  {
   "cell_type": "code",
   "execution_count": 37,
   "id": "fe419d09",
   "metadata": {},
   "outputs": [],
   "source": [
    "# Importing PorterStemmer to replace same types of words into root word.\n",
    "\n",
    "import nltk\n",
    "from nltk.stem.porter import PorterStemmer\n",
    "ps = PorterStemmer()"
   ]
  },
  {
   "cell_type": "code",
   "execution_count": 38,
   "id": "c12c61c0",
   "metadata": {},
   "outputs": [],
   "source": [
    "# fuction to apply stemmer\n",
    "def stem(text):\n",
    "    y=[]    \n",
    "    for i in text.split():\n",
    "        y.append(ps.stem(i))        \n",
    "    return \" \".join(y)"
   ]
  },
  {
   "cell_type": "code",
   "execution_count": 39,
   "id": "18b33741",
   "metadata": {},
   "outputs": [],
   "source": [
    "# Applying stem function :\n",
    "final_df['newTags'] = final_df['newTags'].apply(stem)"
   ]
  },
  {
   "cell_type": "code",
   "execution_count": 40,
   "id": "89aeced6",
   "metadata": {},
   "outputs": [
    {
     "data": {
      "text/plain": [
       "'a med student with a supernatur gift tri to cash in on hi abil by face off against ghosts, till a wander spirit bring romanc instead. tomasalfredson crime drama fantasi horror romanc comedyprogramm romantictvcomedi horrorprogramm thaitvprogramm let fight ghost'"
      ]
     },
     "execution_count": 40,
     "metadata": {},
     "output_type": "execute_result"
    }
   ],
   "source": [
    "final_df['newTags'][0]"
   ]
  },
  {
   "cell_type": "code",
   "execution_count": 41,
   "id": "d4318087",
   "metadata": {},
   "outputs": [],
   "source": [
    "final_df['newTags'] = final_df['newTags'].apply(lambda x:x.lower())"
   ]
  },
  {
   "cell_type": "code",
   "execution_count": 42,
   "id": "7a21bacb",
   "metadata": {},
   "outputs": [],
   "source": [
    "from sklearn.feature_extraction.text import CountVectorizer\n",
    "\n",
    "# Creating instance of CountVector :\n",
    "cv = CountVectorizer(max_features=9000,stop_words='english')\n",
    "vector = cv.fit_transform(final_df['newTags']).toarray()"
   ]
  },
  {
   "cell_type": "code",
   "execution_count": 43,
   "id": "37e189f7",
   "metadata": {},
   "outputs": [
    {
     "data": {
      "text/plain": [
       "(9161, 9000)"
      ]
     },
     "execution_count": 43,
     "metadata": {},
     "output_type": "execute_result"
    }
   ],
   "source": [
    "vector.shape"
   ]
  },
  {
   "cell_type": "code",
   "execution_count": 44,
   "id": "aef8dd52",
   "metadata": {},
   "outputs": [
    {
     "data": {
      "text/plain": [
       "(9161, 9161)"
      ]
     },
     "execution_count": 44,
     "metadata": {},
     "output_type": "execute_result"
    }
   ],
   "source": [
    "from sklearn.metrics.pairwise import cosine_similarity\n",
    "\n",
    "#creating an instance of cosine_similarity :\n",
    "similarity = cosine_similarity(vector)\n",
    "cosine_similarity(vector).shape"
   ]
  },
  {
   "cell_type": "markdown",
   "id": "0bd171e0",
   "metadata": {},
   "source": [
    "#### We are creating a function such that if user will type any movie, then the function will return 10 similar movies to the user."
   ]
  },
  {
   "cell_type": "code",
   "execution_count": 45,
   "id": "cbfcc148",
   "metadata": {},
   "outputs": [],
   "source": [
    "def recommend(movie):\n",
    "    index = final_df[final_df['Title'] == movie].index[0]\n",
    "    distances = sorted(list(enumerate(similarity[index])),reverse=True,key = lambda x: x[1])\n",
    "    for i in distances[1:11]:\n",
    "        print(final_df.iloc[i[0]].Title)"
   ]
  },
  {
   "cell_type": "code",
   "execution_count": 46,
   "id": "405ad69f",
   "metadata": {},
   "outputs": [
    {
     "name": "stdout",
     "output_type": "stream",
     "text": [
      "K-On!\n",
      "Fame\n",
      "QLIMAX THE SOURCE\n",
      "A Very Murray Christmas\n",
      "Tenacious D in: The Pick of Destiny\n",
      "If a Thousand Clarinets\n",
      "Opening Night\n",
      "Metallica Through the Never\n",
      "Dolly Parton: Here I Am\n",
      "That Girl in Pinafore\n"
     ]
    }
   ],
   "source": [
    "recommend('Die Hard')"
   ]
  },
  {
   "cell_type": "markdown",
   "id": "cd3eacc1",
   "metadata": {},
   "source": [
    "## 2. Collaborative Filtering Based Recommender System:"
   ]
  },
  {
   "cell_type": "code",
   "execution_count": 47,
   "id": "c86daa45",
   "metadata": {},
   "outputs": [
    {
     "data": {
      "text/html": [
       "<div>\n",
       "<style scoped>\n",
       "    .dataframe tbody tr th:only-of-type {\n",
       "        vertical-align: middle;\n",
       "    }\n",
       "\n",
       "    .dataframe tbody tr th {\n",
       "        vertical-align: top;\n",
       "    }\n",
       "\n",
       "    .dataframe thead th {\n",
       "        text-align: right;\n",
       "    }\n",
       "</style>\n",
       "<table border=\"1\" class=\"dataframe\">\n",
       "  <thead>\n",
       "    <tr style=\"text-align: right;\">\n",
       "      <th></th>\n",
       "      <th>uid</th>\n",
       "      <th>iid</th>\n",
       "      <th>rating</th>\n",
       "    </tr>\n",
       "  </thead>\n",
       "  <tbody>\n",
       "    <tr>\n",
       "      <th>0</th>\n",
       "      <td>1.0</td>\n",
       "      <td>1.0</td>\n",
       "      <td>4.0</td>\n",
       "    </tr>\n",
       "    <tr>\n",
       "      <th>1</th>\n",
       "      <td>1.0</td>\n",
       "      <td>3.0</td>\n",
       "      <td>4.0</td>\n",
       "    </tr>\n",
       "    <tr>\n",
       "      <th>2</th>\n",
       "      <td>1.0</td>\n",
       "      <td>6.0</td>\n",
       "      <td>4.0</td>\n",
       "    </tr>\n",
       "    <tr>\n",
       "      <th>3</th>\n",
       "      <td>1.0</td>\n",
       "      <td>47.0</td>\n",
       "      <td>5.0</td>\n",
       "    </tr>\n",
       "    <tr>\n",
       "      <th>4</th>\n",
       "      <td>1.0</td>\n",
       "      <td>50.0</td>\n",
       "      <td>5.0</td>\n",
       "    </tr>\n",
       "  </tbody>\n",
       "</table>\n",
       "</div>"
      ],
      "text/plain": [
       "   uid   iid rating\n",
       "0  1.0   1.0    4.0\n",
       "1  1.0   3.0    4.0\n",
       "2  1.0   6.0    4.0\n",
       "3  1.0  47.0    5.0\n",
       "4  1.0  50.0    5.0"
      ]
     },
     "execution_count": 47,
     "metadata": {},
     "output_type": "execute_result"
    }
   ],
   "source": [
    "# creating new dataframe by droping timestamp column from dff dataframe\n",
    "ratings = dff[['userId','movieId','rating']]\n",
    "ratings.rename(columns={'userId':'uid','movieId':'iid'},inplace=True)\n",
    "ratings.head()"
   ]
  },
  {
   "cell_type": "code",
   "execution_count": 48,
   "id": "504ff521",
   "metadata": {},
   "outputs": [],
   "source": [
    "# finding lowest and highest rating from ratings dataframe\n",
    "lowest_rating = ratings['rating'].min()\n",
    "highest_rating = ratings['rating'].max()\n",
    "# Converting the data into Surprise understandable format\n",
    "reader = surprise.Reader(rating_scale = (lowest_rating,highest_rating))\n",
    "data = surprise.Dataset.load_from_df(ratings,reader)\n",
    "\n",
    "similarity_options = {'name': 'cosine', 'user_based': True}"
   ]
  },
  {
   "cell_type": "code",
   "execution_count": 49,
   "id": "cf9cacd8",
   "metadata": {},
   "outputs": [
    {
     "name": "stdout",
     "output_type": "stream",
     "text": [
      "Computing the cosine similarity matrix...\n",
      "Done computing similarity matrix.\n"
     ]
    }
   ],
   "source": [
    "# Building the algorithm\n",
    "algo = surprise.KNNBasic(sim_options = similarity_options) # Default k = 40\n",
    "output = algo.fit(data.build_full_trainset())"
   ]
  },
  {
   "cell_type": "code",
   "execution_count": 50,
   "id": "f5d63636",
   "metadata": {},
   "outputs": [
    {
     "name": "stdout",
     "output_type": "stream",
     "text": [
      "Enter user Id : 50\n"
     ]
    }
   ],
   "source": [
    "# user for which we want the recommendations\n",
    "u_Id = int(input(\"Enter user Id : \"))"
   ]
  },
  {
   "cell_type": "code",
   "execution_count": 51,
   "id": "49632c76",
   "metadata": {},
   "outputs": [
    {
     "name": "stdout",
     "output_type": "stream",
     "text": [
      "3.503188390921105\n"
     ]
    }
   ],
   "source": [
    "# testing the algorithm for a movie\n",
    "pred = algo.predict(uid=u_Id,iid='120')\n",
    "print(pred.est)"
   ]
  },
  {
   "cell_type": "code",
   "execution_count": 52,
   "id": "7abd360b",
   "metadata": {},
   "outputs": [
    {
     "name": "stdout",
     "output_type": "stream",
     "text": [
      "Topmost recommended Item is 53.0\n",
      "with expected rating as 5.0\n"
     ]
    }
   ],
   "source": [
    "df_50 = ratings[ratings['uid']==u_Id]\n",
    "items_50 = df_50['iid']\n",
    "\n",
    "all_items = ratings['iid'].unique()\n",
    "iids_to_predict = np.setdiff1d(all_items,items_50)\n",
    "\n",
    "# creting testset initially having rating as 0\n",
    "testset = [[u_Id,movieId,0.] for movieId in iids_to_predict]\n",
    "\n",
    "# Applying the algorithm \n",
    "predictions = algo.test(testset)\n",
    "\n",
    "pred_ratings = np.array([pred.est for pred in predictions])\n",
    "i_max = np.argmax(pred_ratings)\n",
    "\n",
    "print(\"Topmost recommended Item is\", iids_to_predict[i_max])\n",
    "print(\"with expected rating as\", pred_ratings[i_max])"
   ]
  },
  {
   "cell_type": "code",
   "execution_count": 53,
   "id": "e51c4bfe",
   "metadata": {},
   "outputs": [
    {
     "name": "stdout",
     "output_type": "stream",
     "text": [
      "Top 10 Recomended Items are [53.0 99.0 148.0 467.0 496.0 626.0 633.0 876.0 1140.0 1631.0]\n"
     ]
    }
   ],
   "source": [
    "import heapq\n",
    "i_sorted = heapq.nlargest(10,range(len(pred_ratings)),\n",
    "                          pred_ratings.take)\n",
    "\n",
    "print(\"Top 10 Recomended Items are\",iids_to_predict[i_sorted ])"
   ]
  },
  {
   "cell_type": "code",
   "execution_count": 54,
   "id": "f03c25a9",
   "metadata": {},
   "outputs": [
    {
     "name": "stdout",
     "output_type": "stream",
     "text": [
      "Gonjiam: Haunted Asylum\n",
      "Uppercut\n",
      "Dragon Quest: The Adventure of Dai\n",
      "Mutafukaz\n",
      "Godzilla vs. King Ghidorah\n",
      "Hillbilly Elegy\n",
      "Playing with Fire\n",
      "A Kind of America\n",
      "The Maid\n",
      "School Daze\n"
     ]
    }
   ],
   "source": [
    "rec=iids_to_predict[i_sorted]\n",
    "recommended=[]\n",
    "for i in rec:\n",
    "    recommended.append(final_df.loc[final_df['Movie ID']==i].Title)\n",
    "for j in recommended:    \n",
    "    print(j.values[0])"
   ]
  },
  {
   "cell_type": "markdown",
   "id": "8425b485",
   "metadata": {},
   "source": [
    "### 3. Hybrid Recommender System"
   ]
  },
  {
   "cell_type": "code",
   "execution_count": 55,
   "id": "4bd32562",
   "metadata": {},
   "outputs": [
    {
     "data": {
      "text/html": [
       "<div>\n",
       "<style scoped>\n",
       "    .dataframe tbody tr th:only-of-type {\n",
       "        vertical-align: middle;\n",
       "    }\n",
       "\n",
       "    .dataframe tbody tr th {\n",
       "        vertical-align: top;\n",
       "    }\n",
       "\n",
       "    .dataframe thead th {\n",
       "        text-align: right;\n",
       "    }\n",
       "</style>\n",
       "<table border=\"1\" class=\"dataframe\">\n",
       "  <thead>\n",
       "    <tr style=\"text-align: right;\">\n",
       "      <th></th>\n",
       "      <th>movieId</th>\n",
       "      <th>title</th>\n",
       "      <th>Genre</th>\n",
       "      <th>userId</th>\n",
       "      <th>rating</th>\n",
       "      <th>timestamp</th>\n",
       "    </tr>\n",
       "  </thead>\n",
       "  <tbody>\n",
       "    <tr>\n",
       "      <th>0</th>\n",
       "      <td>1</td>\n",
       "      <td>Lets Fight Ghost</td>\n",
       "      <td>Crime, Drama, Fantasy, Horror, Romance</td>\n",
       "      <td>1.0</td>\n",
       "      <td>4.0</td>\n",
       "      <td>1970-01-01 00:00:00.964982703</td>\n",
       "    </tr>\n",
       "    <tr>\n",
       "      <th>1</th>\n",
       "      <td>1</td>\n",
       "      <td>Lets Fight Ghost</td>\n",
       "      <td>Crime, Drama, Fantasy, Horror, Romance</td>\n",
       "      <td>5.0</td>\n",
       "      <td>4.0</td>\n",
       "      <td>1970-01-01 00:00:00.847434962</td>\n",
       "    </tr>\n",
       "    <tr>\n",
       "      <th>2</th>\n",
       "      <td>1</td>\n",
       "      <td>Lets Fight Ghost</td>\n",
       "      <td>Crime, Drama, Fantasy, Horror, Romance</td>\n",
       "      <td>7.0</td>\n",
       "      <td>4.5</td>\n",
       "      <td>1970-01-01 00:00:01.106635946</td>\n",
       "    </tr>\n",
       "    <tr>\n",
       "      <th>3</th>\n",
       "      <td>1</td>\n",
       "      <td>Lets Fight Ghost</td>\n",
       "      <td>Crime, Drama, Fantasy, Horror, Romance</td>\n",
       "      <td>15.0</td>\n",
       "      <td>2.5</td>\n",
       "      <td>1970-01-01 00:00:01.510577970</td>\n",
       "    </tr>\n",
       "    <tr>\n",
       "      <th>4</th>\n",
       "      <td>1</td>\n",
       "      <td>Lets Fight Ghost</td>\n",
       "      <td>Crime, Drama, Fantasy, Horror, Romance</td>\n",
       "      <td>17.0</td>\n",
       "      <td>4.5</td>\n",
       "      <td>1970-01-01 00:00:01.305696483</td>\n",
       "    </tr>\n",
       "    <tr>\n",
       "      <th>...</th>\n",
       "      <td>...</td>\n",
       "      <td>...</td>\n",
       "      <td>...</td>\n",
       "      <td>...</td>\n",
       "      <td>...</td>\n",
       "      <td>...</td>\n",
       "    </tr>\n",
       "    <tr>\n",
       "      <th>85453</th>\n",
       "      <td>9150</td>\n",
       "      <td>13 Going on 30</td>\n",
       "      <td>Comedy, Fantasy, Romance</td>\n",
       "      <td>NaN</td>\n",
       "      <td>NaN</td>\n",
       "      <td>NaT</td>\n",
       "    </tr>\n",
       "    <tr>\n",
       "      <th>85454</th>\n",
       "      <td>9151</td>\n",
       "      <td>LIFE 2.0</td>\n",
       "      <td>Documentary</td>\n",
       "      <td>NaN</td>\n",
       "      <td>NaN</td>\n",
       "      <td>NaT</td>\n",
       "    </tr>\n",
       "    <tr>\n",
       "      <th>85455</th>\n",
       "      <td>9152</td>\n",
       "      <td>Brand New Day</td>\n",
       "      <td>Documentary, Music</td>\n",
       "      <td>NaN</td>\n",
       "      <td>NaN</td>\n",
       "      <td>NaT</td>\n",
       "    </tr>\n",
       "    <tr>\n",
       "      <th>85456</th>\n",
       "      <td>9153</td>\n",
       "      <td>Daniel Arends: Blessuretijd</td>\n",
       "      <td>Comedy</td>\n",
       "      <td>NaN</td>\n",
       "      <td>NaN</td>\n",
       "      <td>NaT</td>\n",
       "    </tr>\n",
       "    <tr>\n",
       "      <th>85457</th>\n",
       "      <td>9154</td>\n",
       "      <td>DreamWorks Happy Holidays from Madagascar</td>\n",
       "      <td>Animation, Comedy, Family</td>\n",
       "      <td>NaN</td>\n",
       "      <td>NaN</td>\n",
       "      <td>NaT</td>\n",
       "    </tr>\n",
       "  </tbody>\n",
       "</table>\n",
       "<p>85458 rows × 6 columns</p>\n",
       "</div>"
      ],
      "text/plain": [
       "      movieId                                      title  \\\n",
       "0           1                           Lets Fight Ghost   \n",
       "1           1                           Lets Fight Ghost   \n",
       "2           1                           Lets Fight Ghost   \n",
       "3           1                           Lets Fight Ghost   \n",
       "4           1                           Lets Fight Ghost   \n",
       "...       ...                                        ...   \n",
       "85453    9150                             13 Going on 30   \n",
       "85454    9151                                   LIFE 2.0   \n",
       "85455    9152                              Brand New Day   \n",
       "85456    9153                Daniel Arends: Blessuretijd   \n",
       "85457    9154  DreamWorks Happy Holidays from Madagascar   \n",
       "\n",
       "                                        Genre userId rating  \\\n",
       "0      Crime, Drama, Fantasy, Horror, Romance    1.0    4.0   \n",
       "1      Crime, Drama, Fantasy, Horror, Romance    5.0    4.0   \n",
       "2      Crime, Drama, Fantasy, Horror, Romance    7.0    4.5   \n",
       "3      Crime, Drama, Fantasy, Horror, Romance   15.0    2.5   \n",
       "4      Crime, Drama, Fantasy, Horror, Romance   17.0    4.5   \n",
       "...                                       ...    ...    ...   \n",
       "85453                Comedy, Fantasy, Romance    NaN    NaN   \n",
       "85454                             Documentary    NaN    NaN   \n",
       "85455                      Documentary, Music    NaN    NaN   \n",
       "85456                                  Comedy    NaN    NaN   \n",
       "85457               Animation, Comedy, Family    NaN    NaN   \n",
       "\n",
       "                          timestamp  \n",
       "0     1970-01-01 00:00:00.964982703  \n",
       "1     1970-01-01 00:00:00.847434962  \n",
       "2     1970-01-01 00:00:01.106635946  \n",
       "3     1970-01-01 00:00:01.510577970  \n",
       "4     1970-01-01 00:00:01.305696483  \n",
       "...                             ...  \n",
       "85453                           NaT  \n",
       "85454                           NaT  \n",
       "85455                           NaT  \n",
       "85456                           NaT  \n",
       "85457                           NaT  \n",
       "\n",
       "[85458 rows x 6 columns]"
      ]
     },
     "execution_count": 55,
     "metadata": {},
     "output_type": "execute_result"
    }
   ],
   "source": [
    "#Merging dataframes\n",
    "new_df1=df[[\"Movie ID\",\"Title\",\"Genre\"]]\n",
    "\n",
    "new_df2=new_df1.rename(columns={\"Movie ID\":\"movieId\",\"Title\":\"title\"})\n",
    "\n",
    "merged_df = new_df2.merge(dff,on = \"movieId\", how = 'left')\n",
    "merged_df[\"timestamp\"] = pd.to_datetime(merged_df[\"timestamp\"], format='%Y-%m-%d')\n",
    "merged_df"
   ]
  },
  {
   "cell_type": "code",
   "execution_count": 56,
   "id": "58d521d1",
   "metadata": {},
   "outputs": [],
   "source": [
    "# To get rid of all the ending white space characters that might have appeared \n",
    "#merged_df['title'] = merged_df['title'].apply(lambda x: x.strip())\n",
    "\n",
    "a = pd.DataFrame(merged_df[\"title\"].value_counts())\n",
    "rare_movies = a[a[\"title\"] <= 50].index\n",
    "common_movies = merged_df[~merged_df[\"title\"].isin(rare_movies)]\n",
    "user_movie_df = common_movies.pivot_table(index=[\"userId\"], columns=[\"title\"], values=\"rating\")"
   ]
  },
  {
   "cell_type": "code",
   "execution_count": 57,
   "id": "9a381385",
   "metadata": {},
   "outputs": [
    {
     "name": "stdout",
     "output_type": "stream",
     "text": [
      "Enter user id : 50\n"
     ]
    }
   ],
   "source": [
    "# choosing  a user to get recommendation for :\n",
    "user_id =int(input(\"Enter user id : \"))"
   ]
  },
  {
   "cell_type": "code",
   "execution_count": 58,
   "id": "f7ddc6a5",
   "metadata": {},
   "outputs": [
    {
     "data": {
      "text/plain": [
       "69"
      ]
     },
     "execution_count": 58,
     "metadata": {},
     "output_type": "execute_result"
    }
   ],
   "source": [
    "# Determining the movies watched by the recommended user\n",
    "user_df = user_movie_df[user_movie_df.index == user_id]\n",
    "\n",
    "movies_watched = user_df.columns[user_df.notna().any()].tolist()\n",
    "len(movies_watched)\n",
    "# the number of movies the user has watched "
   ]
  },
  {
   "cell_type": "code",
   "execution_count": 59,
   "id": "24bf1fe8",
   "metadata": {},
   "outputs": [
    {
     "data": {
      "text/plain": [
       "(606, 69)"
      ]
     },
     "execution_count": 59,
     "metadata": {},
     "output_type": "execute_result"
    }
   ],
   "source": [
    "# Accessing data and Ids of other users watching the same movies \n",
    "movies_watched_df = user_movie_df[movies_watched]\n",
    "movies_watched_df.head()\n",
    "movies_watched_df.shape\n",
    "# There are 138493 users who watched at least one of the movies the user watched."
   ]
  },
  {
   "cell_type": "code",
   "execution_count": 60,
   "id": "f89c448f",
   "metadata": {},
   "outputs": [
    {
     "data": {
      "text/plain": [
       "userId\n",
       "1.0    22\n",
       "2.0     2\n",
       "3.0     1\n",
       "4.0    20\n",
       "5.0     5\n",
       "dtype: int64"
      ]
     },
     "execution_count": 60,
     "metadata": {},
     "output_type": "execute_result"
    }
   ],
   "source": [
    "# each user watched how many of these 455 movies\n",
    "user_movie_count = movies_watched_df.T.notnull().sum()\n",
    "user_movie_count.head()"
   ]
  },
  {
   "cell_type": "code",
   "execution_count": 61,
   "id": "0bde07eb",
   "metadata": {},
   "outputs": [
    {
     "data": {
      "text/plain": [
       "userId         34\n",
       "movie_count    22\n",
       "dtype: int64"
      ]
     },
     "execution_count": 61,
     "metadata": {},
     "output_type": "execute_result"
    }
   ],
   "source": [
    "user_movie_count = user_movie_count.reset_index()\n",
    "user_movie_count.columns = [\"userId\", \"movie_count\"]\n",
    "m_count = movies_watched_df.shape[1]   # 391\n",
    "\n",
    "# choosen a ratio of 0.60. User ids who watched at least percent of 60 these movies \n",
    "users_same_movies=user_movie_count[user_movie_count[\"movie_count\"]/m_count > 0.6].sort_values(\"movie_count\", ascending=False)\n",
    "users_same_movies.nunique()"
   ]
  },
  {
   "cell_type": "code",
   "execution_count": 62,
   "id": "9252343b",
   "metadata": {},
   "outputs": [
    {
     "data": {
      "text/html": [
       "<div>\n",
       "<style scoped>\n",
       "    .dataframe tbody tr th:only-of-type {\n",
       "        vertical-align: middle;\n",
       "    }\n",
       "\n",
       "    .dataframe tbody tr th {\n",
       "        vertical-align: top;\n",
       "    }\n",
       "\n",
       "    .dataframe thead th {\n",
       "        text-align: right;\n",
       "    }\n",
       "</style>\n",
       "<table border=\"1\" class=\"dataframe\">\n",
       "  <thead>\n",
       "    <tr style=\"text-align: right;\">\n",
       "      <th></th>\n",
       "      <th>userId</th>\n",
       "      <th>movie_count</th>\n",
       "    </tr>\n",
       "  </thead>\n",
       "  <tbody>\n",
       "    <tr>\n",
       "      <th>49</th>\n",
       "      <td>50.0</td>\n",
       "      <td>69</td>\n",
       "    </tr>\n",
       "    <tr>\n",
       "      <th>412</th>\n",
       "      <td>414.0</td>\n",
       "      <td>66</td>\n",
       "    </tr>\n",
       "    <tr>\n",
       "      <th>471</th>\n",
       "      <td>474.0</td>\n",
       "      <td>65</td>\n",
       "    </tr>\n",
       "    <tr>\n",
       "      <th>594</th>\n",
       "      <td>599.0</td>\n",
       "      <td>62</td>\n",
       "    </tr>\n",
       "    <tr>\n",
       "      <th>272</th>\n",
       "      <td>274.0</td>\n",
       "      <td>61</td>\n",
       "    </tr>\n",
       "  </tbody>\n",
       "</table>\n",
       "</div>"
      ],
      "text/plain": [
       "     userId  movie_count\n",
       "49     50.0           69\n",
       "412   414.0           66\n",
       "471   474.0           65\n",
       "594   599.0           62\n",
       "272   274.0           61"
      ]
     },
     "execution_count": 62,
     "metadata": {},
     "output_type": "execute_result"
    }
   ],
   "source": [
    "users_same_movies.head()"
   ]
  },
  {
   "cell_type": "code",
   "execution_count": 63,
   "id": "282ef9f5",
   "metadata": {},
   "outputs": [
    {
     "data": {
      "text/html": [
       "<div>\n",
       "<style scoped>\n",
       "    .dataframe tbody tr th:only-of-type {\n",
       "        vertical-align: middle;\n",
       "    }\n",
       "\n",
       "    .dataframe tbody tr th {\n",
       "        vertical-align: top;\n",
       "    }\n",
       "\n",
       "    .dataframe thead th {\n",
       "        text-align: right;\n",
       "    }\n",
       "</style>\n",
       "<table border=\"1\" class=\"dataframe\">\n",
       "  <thead>\n",
       "    <tr style=\"text-align: right;\">\n",
       "      <th>title</th>\n",
       "      <th>#blackAF</th>\n",
       "      <th>A Dogs Journey</th>\n",
       "      <th>A Street Cat Named Bob</th>\n",
       "      <th>All For Love</th>\n",
       "      <th>All for Love</th>\n",
       "      <th>Anavitória: Araguaína - Las Vegas</th>\n",
       "      <th>Animal Crackers</th>\n",
       "      <th>Arifureta: From Commonplace to Worlds Strongest</th>\n",
       "      <th>As One</th>\n",
       "      <th>Assassination Nation</th>\n",
       "      <th>...</th>\n",
       "      <th>The Old Guard</th>\n",
       "      <th>The Secrets</th>\n",
       "      <th>Theres Something About Mary</th>\n",
       "      <th>Ultraman Z</th>\n",
       "      <th>Vivah</th>\n",
       "      <th>Wanton Mee</th>\n",
       "      <th>Wasteful Days of High School Girls</th>\n",
       "      <th>West Coast Customs</th>\n",
       "      <th>Wet Woman in the Wind</th>\n",
       "      <th>White House Farm</th>\n",
       "    </tr>\n",
       "    <tr>\n",
       "      <th>userId</th>\n",
       "      <th></th>\n",
       "      <th></th>\n",
       "      <th></th>\n",
       "      <th></th>\n",
       "      <th></th>\n",
       "      <th></th>\n",
       "      <th></th>\n",
       "      <th></th>\n",
       "      <th></th>\n",
       "      <th></th>\n",
       "      <th></th>\n",
       "      <th></th>\n",
       "      <th></th>\n",
       "      <th></th>\n",
       "      <th></th>\n",
       "      <th></th>\n",
       "      <th></th>\n",
       "      <th></th>\n",
       "      <th></th>\n",
       "      <th></th>\n",
       "      <th></th>\n",
       "    </tr>\n",
       "  </thead>\n",
       "  <tbody>\n",
       "    <tr>\n",
       "      <th>17.0</th>\n",
       "      <td>NaN</td>\n",
       "      <td>NaN</td>\n",
       "      <td>NaN</td>\n",
       "      <td>5.0</td>\n",
       "      <td>5.0</td>\n",
       "      <td>NaN</td>\n",
       "      <td>NaN</td>\n",
       "      <td>5.0</td>\n",
       "      <td>NaN</td>\n",
       "      <td>4.5</td>\n",
       "      <td>...</td>\n",
       "      <td>NaN</td>\n",
       "      <td>5.0</td>\n",
       "      <td>NaN</td>\n",
       "      <td>NaN</td>\n",
       "      <td>NaN</td>\n",
       "      <td>4.0</td>\n",
       "      <td>NaN</td>\n",
       "      <td>5.0</td>\n",
       "      <td>NaN</td>\n",
       "      <td>4.0</td>\n",
       "    </tr>\n",
       "    <tr>\n",
       "      <th>49.0</th>\n",
       "      <td>NaN</td>\n",
       "      <td>NaN</td>\n",
       "      <td>4.0</td>\n",
       "      <td>NaN</td>\n",
       "      <td>NaN</td>\n",
       "      <td>NaN</td>\n",
       "      <td>NaN</td>\n",
       "      <td>4.5</td>\n",
       "      <td>NaN</td>\n",
       "      <td>NaN</td>\n",
       "      <td>...</td>\n",
       "      <td>NaN</td>\n",
       "      <td>NaN</td>\n",
       "      <td>NaN</td>\n",
       "      <td>NaN</td>\n",
       "      <td>NaN</td>\n",
       "      <td>NaN</td>\n",
       "      <td>NaN</td>\n",
       "      <td>NaN</td>\n",
       "      <td>NaN</td>\n",
       "      <td>NaN</td>\n",
       "    </tr>\n",
       "    <tr>\n",
       "      <th>63.0</th>\n",
       "      <td>2.0</td>\n",
       "      <td>NaN</td>\n",
       "      <td>4.0</td>\n",
       "      <td>4.0</td>\n",
       "      <td>4.0</td>\n",
       "      <td>NaN</td>\n",
       "      <td>5.0</td>\n",
       "      <td>3.5</td>\n",
       "      <td>NaN</td>\n",
       "      <td>5.0</td>\n",
       "      <td>...</td>\n",
       "      <td>5.0</td>\n",
       "      <td>NaN</td>\n",
       "      <td>NaN</td>\n",
       "      <td>NaN</td>\n",
       "      <td>5.0</td>\n",
       "      <td>4.0</td>\n",
       "      <td>NaN</td>\n",
       "      <td>4.0</td>\n",
       "      <td>3.0</td>\n",
       "      <td>3.0</td>\n",
       "    </tr>\n",
       "    <tr>\n",
       "      <th>67.0</th>\n",
       "      <td>4.0</td>\n",
       "      <td>NaN</td>\n",
       "      <td>NaN</td>\n",
       "      <td>NaN</td>\n",
       "      <td>NaN</td>\n",
       "      <td>NaN</td>\n",
       "      <td>NaN</td>\n",
       "      <td>4.5</td>\n",
       "      <td>NaN</td>\n",
       "      <td>NaN</td>\n",
       "      <td>...</td>\n",
       "      <td>NaN</td>\n",
       "      <td>NaN</td>\n",
       "      <td>NaN</td>\n",
       "      <td>NaN</td>\n",
       "      <td>NaN</td>\n",
       "      <td>4.0</td>\n",
       "      <td>NaN</td>\n",
       "      <td>NaN</td>\n",
       "      <td>NaN</td>\n",
       "      <td>NaN</td>\n",
       "    </tr>\n",
       "    <tr>\n",
       "      <th>90.0</th>\n",
       "      <td>NaN</td>\n",
       "      <td>NaN</td>\n",
       "      <td>NaN</td>\n",
       "      <td>NaN</td>\n",
       "      <td>NaN</td>\n",
       "      <td>NaN</td>\n",
       "      <td>NaN</td>\n",
       "      <td>NaN</td>\n",
       "      <td>NaN</td>\n",
       "      <td>NaN</td>\n",
       "      <td>...</td>\n",
       "      <td>NaN</td>\n",
       "      <td>NaN</td>\n",
       "      <td>NaN</td>\n",
       "      <td>NaN</td>\n",
       "      <td>NaN</td>\n",
       "      <td>NaN</td>\n",
       "      <td>NaN</td>\n",
       "      <td>NaN</td>\n",
       "      <td>NaN</td>\n",
       "      <td>NaN</td>\n",
       "    </tr>\n",
       "  </tbody>\n",
       "</table>\n",
       "<p>5 rows × 69 columns</p>\n",
       "</div>"
      ],
      "text/plain": [
       "title   #blackAF  A Dogs Journey  A Street Cat Named Bob  All For Love  \\\n",
       "userId                                                                   \n",
       "17.0         NaN             NaN                     NaN           5.0   \n",
       "49.0         NaN             NaN                     4.0           NaN   \n",
       "63.0         2.0             NaN                     4.0           4.0   \n",
       "67.0         4.0             NaN                     NaN           NaN   \n",
       "90.0         NaN             NaN                     NaN           NaN   \n",
       "\n",
       "title   All for Love  Anavitória: Araguaína - Las Vegas  Animal Crackers  \\\n",
       "userId                                                                     \n",
       "17.0             5.0                                NaN              NaN   \n",
       "49.0             NaN                                NaN              NaN   \n",
       "63.0             4.0                                NaN              5.0   \n",
       "67.0             NaN                                NaN              NaN   \n",
       "90.0             NaN                                NaN              NaN   \n",
       "\n",
       "title   Arifureta: From Commonplace to Worlds Strongest  As One  \\\n",
       "userId                                                            \n",
       "17.0                                                5.0     NaN   \n",
       "49.0                                                4.5     NaN   \n",
       "63.0                                                3.5     NaN   \n",
       "67.0                                                4.5     NaN   \n",
       "90.0                                                NaN     NaN   \n",
       "\n",
       "title   Assassination Nation  ...  The Old Guard  The Secrets  \\\n",
       "userId                        ...                               \n",
       "17.0                     4.5  ...            NaN          5.0   \n",
       "49.0                     NaN  ...            NaN          NaN   \n",
       "63.0                     5.0  ...            5.0          NaN   \n",
       "67.0                     NaN  ...            NaN          NaN   \n",
       "90.0                     NaN  ...            NaN          NaN   \n",
       "\n",
       "title   Theres Something About Mary  Ultraman Z  Vivah  Wanton Mee  \\\n",
       "userId                                                               \n",
       "17.0                            NaN         NaN    NaN         4.0   \n",
       "49.0                            NaN         NaN    NaN         NaN   \n",
       "63.0                            NaN         NaN    5.0         4.0   \n",
       "67.0                            NaN         NaN    NaN         4.0   \n",
       "90.0                            NaN         NaN    NaN         NaN   \n",
       "\n",
       "title   Wasteful Days of High School Girls  West Coast Customs  \\\n",
       "userId                                                           \n",
       "17.0                                   NaN                 5.0   \n",
       "49.0                                   NaN                 NaN   \n",
       "63.0                                   NaN                 4.0   \n",
       "67.0                                   NaN                 NaN   \n",
       "90.0                                   NaN                 NaN   \n",
       "\n",
       "title   Wet Woman in the Wind  White House Farm  \n",
       "userId                                           \n",
       "17.0                      NaN               4.0  \n",
       "49.0                      NaN               NaN  \n",
       "63.0                      3.0               3.0  \n",
       "67.0                      NaN               NaN  \n",
       "90.0                      NaN               NaN  \n",
       "\n",
       "[5 rows x 69 columns]"
      ]
     },
     "execution_count": 63,
     "metadata": {},
     "output_type": "execute_result"
    }
   ],
   "source": [
    "# We bring together users who watch the same movies with the user. (not overlook the above ratio)\n",
    "final_df2 = pd.concat([movies_watched_df[movies_watched_df.index.isin(users_same_movies.index)],\n",
    "                      user_df[movies_watched]])\n",
    "\n",
    "final_df2.head()"
   ]
  },
  {
   "cell_type": "code",
   "execution_count": 64,
   "id": "47ef5b50",
   "metadata": {},
   "outputs": [
    {
     "data": {
      "text/html": [
       "<div>\n",
       "<style scoped>\n",
       "    .dataframe tbody tr th:only-of-type {\n",
       "        vertical-align: middle;\n",
       "    }\n",
       "\n",
       "    .dataframe tbody tr th {\n",
       "        vertical-align: top;\n",
       "    }\n",
       "\n",
       "    .dataframe thead th {\n",
       "        text-align: right;\n",
       "    }\n",
       "</style>\n",
       "<table border=\"1\" class=\"dataframe\">\n",
       "  <thead>\n",
       "    <tr style=\"text-align: right;\">\n",
       "      <th></th>\n",
       "      <th>user_id_1</th>\n",
       "      <th>user_id_2</th>\n",
       "      <th>corr</th>\n",
       "    </tr>\n",
       "  </thead>\n",
       "  <tbody>\n",
       "    <tr>\n",
       "      <th>0</th>\n",
       "      <td>305.0</td>\n",
       "      <td>90.0</td>\n",
       "      <td>-1.000000</td>\n",
       "    </tr>\n",
       "    <tr>\n",
       "      <th>1</th>\n",
       "      <td>303.0</td>\n",
       "      <td>328.0</td>\n",
       "      <td>-0.995871</td>\n",
       "    </tr>\n",
       "    <tr>\n",
       "      <th>2</th>\n",
       "      <td>412.0</td>\n",
       "      <td>286.0</td>\n",
       "      <td>-0.984732</td>\n",
       "    </tr>\n",
       "    <tr>\n",
       "      <th>3</th>\n",
       "      <td>378.0</td>\n",
       "      <td>605.0</td>\n",
       "      <td>-0.944911</td>\n",
       "    </tr>\n",
       "    <tr>\n",
       "      <th>4</th>\n",
       "      <td>326.0</td>\n",
       "      <td>49.0</td>\n",
       "      <td>-0.944911</td>\n",
       "    </tr>\n",
       "  </tbody>\n",
       "</table>\n",
       "</div>"
      ],
      "text/plain": [
       "   user_id_1  user_id_2      corr\n",
       "0      305.0       90.0 -1.000000\n",
       "1      303.0      328.0 -0.995871\n",
       "2      412.0      286.0 -0.984732\n",
       "3      378.0      605.0 -0.944911\n",
       "4      326.0       49.0 -0.944911"
      ]
     },
     "execution_count": 64,
     "metadata": {},
     "output_type": "execute_result"
    }
   ],
   "source": [
    "corr_df = final_df2.T.corr().unstack().sort_values().drop_duplicates()\n",
    "corr_df = pd.DataFrame(corr_df, columns=[\"corr\"])\n",
    "corr_df.index.names = ['user_id_1', 'user_id_2']\n",
    "corr_df = corr_df.reset_index()\n",
    "corr_df.head()"
   ]
  },
  {
   "cell_type": "markdown",
   "id": "a4ca6704",
   "metadata": {},
   "source": [
    "We are interested in users who have a high correlation with the user_id. Could analysis it by entering a value"
   ]
  },
  {
   "cell_type": "code",
   "execution_count": 65,
   "id": "83f28906",
   "metadata": {},
   "outputs": [
    {
     "data": {
      "text/html": [
       "<div>\n",
       "<style scoped>\n",
       "    .dataframe tbody tr th:only-of-type {\n",
       "        vertical-align: middle;\n",
       "    }\n",
       "\n",
       "    .dataframe tbody tr th {\n",
       "        vertical-align: top;\n",
       "    }\n",
       "\n",
       "    .dataframe thead th {\n",
       "        text-align: right;\n",
       "    }\n",
       "</style>\n",
       "<table border=\"1\" class=\"dataframe\">\n",
       "  <thead>\n",
       "    <tr style=\"text-align: right;\">\n",
       "      <th></th>\n",
       "      <th>0</th>\n",
       "    </tr>\n",
       "  </thead>\n",
       "  <tbody>\n",
       "    <tr>\n",
       "      <th>userId</th>\n",
       "      <td>90.000000</td>\n",
       "    </tr>\n",
       "    <tr>\n",
       "      <th>corr</th>\n",
       "      <td>0.866025</td>\n",
       "    </tr>\n",
       "  </tbody>\n",
       "</table>\n",
       "</div>"
      ],
      "text/plain": [
       "                0\n",
       "userId  90.000000\n",
       "corr     0.866025"
      ]
     },
     "execution_count": 65,
     "metadata": {},
     "output_type": "execute_result"
    }
   ],
   "source": [
    "top_users = corr_df[(corr_df[\"user_id_1\"] == user_id) & (corr_df[\"corr\"] >= 0.60)][\n",
    "    [\"user_id_2\", \"corr\"]].reset_index(drop=True)\n",
    "\n",
    "top_users = top_users.sort_values(by='corr', ascending=False)\n",
    "\n",
    "# Users who have more than 0.60 corr with the user\n",
    "top_users.rename(columns={\"user_id_2\": \"userId\"}, inplace=True) \n",
    "top_users.T"
   ]
  },
  {
   "cell_type": "code",
   "execution_count": 66,
   "id": "94d64b09",
   "metadata": {},
   "outputs": [
    {
     "data": {
      "text/html": [
       "<div>\n",
       "<style scoped>\n",
       "    .dataframe tbody tr th:only-of-type {\n",
       "        vertical-align: middle;\n",
       "    }\n",
       "\n",
       "    .dataframe tbody tr th {\n",
       "        vertical-align: top;\n",
       "    }\n",
       "\n",
       "    .dataframe thead th {\n",
       "        text-align: right;\n",
       "    }\n",
       "</style>\n",
       "<table border=\"1\" class=\"dataframe\">\n",
       "  <thead>\n",
       "    <tr style=\"text-align: right;\">\n",
       "      <th></th>\n",
       "      <th>userId</th>\n",
       "      <th>corr</th>\n",
       "      <th>movieId</th>\n",
       "      <th>rating</th>\n",
       "      <th>weighted_rating</th>\n",
       "    </tr>\n",
       "  </thead>\n",
       "  <tbody>\n",
       "    <tr>\n",
       "      <th>0</th>\n",
       "      <td>90.0</td>\n",
       "      <td>0.866025</td>\n",
       "      <td>1.0</td>\n",
       "      <td>3.0</td>\n",
       "      <td>2.598076</td>\n",
       "    </tr>\n",
       "    <tr>\n",
       "      <th>1</th>\n",
       "      <td>90.0</td>\n",
       "      <td>0.866025</td>\n",
       "      <td>7.0</td>\n",
       "      <td>4.0</td>\n",
       "      <td>3.464102</td>\n",
       "    </tr>\n",
       "    <tr>\n",
       "      <th>2</th>\n",
       "      <td>90.0</td>\n",
       "      <td>0.866025</td>\n",
       "      <td>14.0</td>\n",
       "      <td>5.0</td>\n",
       "      <td>4.330127</td>\n",
       "    </tr>\n",
       "    <tr>\n",
       "      <th>3</th>\n",
       "      <td>90.0</td>\n",
       "      <td>0.866025</td>\n",
       "      <td>17.0</td>\n",
       "      <td>5.0</td>\n",
       "      <td>4.330127</td>\n",
       "    </tr>\n",
       "    <tr>\n",
       "      <th>4</th>\n",
       "      <td>90.0</td>\n",
       "      <td>0.866025</td>\n",
       "      <td>25.0</td>\n",
       "      <td>5.0</td>\n",
       "      <td>4.330127</td>\n",
       "    </tr>\n",
       "  </tbody>\n",
       "</table>\n",
       "</div>"
      ],
      "text/plain": [
       "  userId      corr movieId rating weighted_rating\n",
       "0   90.0  0.866025     1.0    3.0        2.598076\n",
       "1   90.0  0.866025     7.0    4.0        3.464102\n",
       "2   90.0  0.866025    14.0    5.0        4.330127\n",
       "3   90.0  0.866025    17.0    5.0        4.330127\n",
       "4   90.0  0.866025    25.0    5.0        4.330127"
      ]
     },
     "execution_count": 66,
     "metadata": {},
     "output_type": "execute_result"
    }
   ],
   "source": [
    "# Calculation weighted rating\n",
    "\n",
    "top_users_ratings = top_users.merge(dff[[\"userId\", \"movieId\", \"rating\"]], how='inner')\n",
    "top_users_ratings['weighted_rating'] = top_users_ratings['corr'] * top_users_ratings['rating']\n",
    "top_users_ratings.head()"
   ]
  },
  {
   "cell_type": "code",
   "execution_count": 67,
   "id": "7176ed38",
   "metadata": {},
   "outputs": [],
   "source": [
    "top_users_ratings['weighted_rating'] = top_users_ratings['weighted_rating'].astype(float)"
   ]
  },
  {
   "cell_type": "code",
   "execution_count": 68,
   "id": "66621a92",
   "metadata": {},
   "outputs": [
    {
     "data": {
      "text/html": [
       "<div>\n",
       "<style scoped>\n",
       "    .dataframe tbody tr th:only-of-type {\n",
       "        vertical-align: middle;\n",
       "    }\n",
       "\n",
       "    .dataframe tbody tr th {\n",
       "        vertical-align: top;\n",
       "    }\n",
       "\n",
       "    .dataframe thead th {\n",
       "        text-align: right;\n",
       "    }\n",
       "</style>\n",
       "<table border=\"1\" class=\"dataframe\">\n",
       "  <thead>\n",
       "    <tr style=\"text-align: right;\">\n",
       "      <th></th>\n",
       "      <th>sum_corr</th>\n",
       "      <th>sum_weighted_rating</th>\n",
       "    </tr>\n",
       "    <tr>\n",
       "      <th>movieId</th>\n",
       "      <th></th>\n",
       "      <th></th>\n",
       "    </tr>\n",
       "  </thead>\n",
       "  <tbody>\n",
       "    <tr>\n",
       "      <th>1.0</th>\n",
       "      <td>0.866025</td>\n",
       "      <td>2.598076</td>\n",
       "    </tr>\n",
       "    <tr>\n",
       "      <th>7.0</th>\n",
       "      <td>0.866025</td>\n",
       "      <td>3.464102</td>\n",
       "    </tr>\n",
       "    <tr>\n",
       "      <th>14.0</th>\n",
       "      <td>0.866025</td>\n",
       "      <td>4.330127</td>\n",
       "    </tr>\n",
       "    <tr>\n",
       "      <th>17.0</th>\n",
       "      <td>0.866025</td>\n",
       "      <td>4.330127</td>\n",
       "    </tr>\n",
       "    <tr>\n",
       "      <th>25.0</th>\n",
       "      <td>0.866025</td>\n",
       "      <td>4.330127</td>\n",
       "    </tr>\n",
       "  </tbody>\n",
       "</table>\n",
       "</div>"
      ],
      "text/plain": [
       "         sum_corr  sum_weighted_rating\n",
       "movieId                               \n",
       "1.0      0.866025             2.598076\n",
       "7.0      0.866025             3.464102\n",
       "14.0     0.866025             4.330127\n",
       "17.0     0.866025             4.330127\n",
       "25.0     0.866025             4.330127"
      ]
     },
     "execution_count": 68,
     "metadata": {},
     "output_type": "execute_result"
    }
   ],
   "source": [
    "# Calculating the weighted average recommendation score and keeping the top ten films\n",
    "# Unique rating for movieId \n",
    "temp = top_users_ratings.groupby('movieId').sum()[['corr', 'weighted_rating']]\n",
    "temp.columns = ['sum_corr', 'sum_weighted_rating']\n",
    "temp.head()"
   ]
  },
  {
   "cell_type": "code",
   "execution_count": 69,
   "id": "0cb8de6a",
   "metadata": {},
   "outputs": [
    {
     "data": {
      "text/html": [
       "<div>\n",
       "<style scoped>\n",
       "    .dataframe tbody tr th:only-of-type {\n",
       "        vertical-align: middle;\n",
       "    }\n",
       "\n",
       "    .dataframe tbody tr th {\n",
       "        vertical-align: top;\n",
       "    }\n",
       "\n",
       "    .dataframe thead th {\n",
       "        text-align: right;\n",
       "    }\n",
       "</style>\n",
       "<table border=\"1\" class=\"dataframe\">\n",
       "  <thead>\n",
       "    <tr style=\"text-align: right;\">\n",
       "      <th></th>\n",
       "      <th>weighted_average_recommendation_score</th>\n",
       "      <th>movieId</th>\n",
       "    </tr>\n",
       "    <tr>\n",
       "      <th>movieId</th>\n",
       "      <th></th>\n",
       "      <th></th>\n",
       "    </tr>\n",
       "  </thead>\n",
       "  <tbody>\n",
       "    <tr>\n",
       "      <th>1411.0</th>\n",
       "      <td>5.0</td>\n",
       "      <td>1411.0</td>\n",
       "    </tr>\n",
       "    <tr>\n",
       "      <th>85.0</th>\n",
       "      <td>5.0</td>\n",
       "      <td>85.0</td>\n",
       "    </tr>\n",
       "    <tr>\n",
       "      <th>1357.0</th>\n",
       "      <td>5.0</td>\n",
       "      <td>1357.0</td>\n",
       "    </tr>\n",
       "    <tr>\n",
       "      <th>818.0</th>\n",
       "      <td>5.0</td>\n",
       "      <td>818.0</td>\n",
       "    </tr>\n",
       "    <tr>\n",
       "      <th>1358.0</th>\n",
       "      <td>5.0</td>\n",
       "      <td>1358.0</td>\n",
       "    </tr>\n",
       "    <tr>\n",
       "      <th>984.0</th>\n",
       "      <td>5.0</td>\n",
       "      <td>984.0</td>\n",
       "    </tr>\n",
       "    <tr>\n",
       "      <th>1034.0</th>\n",
       "      <td>5.0</td>\n",
       "      <td>1034.0</td>\n",
       "    </tr>\n",
       "  </tbody>\n",
       "</table>\n",
       "</div>"
      ],
      "text/plain": [
       "         weighted_average_recommendation_score  movieId\n",
       "movieId                                                \n",
       "1411.0                                     5.0   1411.0\n",
       "85.0                                       5.0     85.0\n",
       "1357.0                                     5.0   1357.0\n",
       "818.0                                      5.0    818.0\n",
       "1358.0                                     5.0   1358.0\n",
       "984.0                                      5.0    984.0\n",
       "1034.0                                     5.0   1034.0"
      ]
     },
     "execution_count": 69,
     "metadata": {},
     "output_type": "execute_result"
    }
   ],
   "source": [
    "# Calculating weighted average recommendation score and keeping top five films based on scores\n",
    "recommendation_df = pd.DataFrame()\n",
    "recommendation_df['weighted_average_recommendation_score'] = temp['sum_weighted_rating'] / temp['sum_corr']\n",
    "recommendation_df['movieId'] = temp.index\n",
    "recommendation_df = recommendation_df.sort_values(by='weighted_average_recommendation_score', ascending=False)\n",
    "recommendation_df.head(7)"
   ]
  },
  {
   "cell_type": "code",
   "execution_count": 70,
   "id": "bc96f9df",
   "metadata": {},
   "outputs": [],
   "source": [
    "# movies that the user may like\n",
    "\n",
    "final = merged_df.loc[merged_df['movieId'].isin(recommendation_df.head(10)['movieId'])]"
   ]
  },
  {
   "cell_type": "code",
   "execution_count": 71,
   "id": "32c85b31",
   "metadata": {},
   "outputs": [],
   "source": [
    "final_recommendations=final.groupby(\"title\").agg({\"rating\": \"max\"}).sort_values(\"rating\", ascending=False)"
   ]
  },
  {
   "cell_type": "code",
   "execution_count": 72,
   "id": "465dd507",
   "metadata": {},
   "outputs": [
    {
     "data": {
      "text/html": [
       "<div>\n",
       "<style scoped>\n",
       "    .dataframe tbody tr th:only-of-type {\n",
       "        vertical-align: middle;\n",
       "    }\n",
       "\n",
       "    .dataframe tbody tr th {\n",
       "        vertical-align: top;\n",
       "    }\n",
       "\n",
       "    .dataframe thead th {\n",
       "        text-align: right;\n",
       "    }\n",
       "</style>\n",
       "<table border=\"1\" class=\"dataframe\">\n",
       "  <thead>\n",
       "    <tr style=\"text-align: right;\">\n",
       "      <th></th>\n",
       "      <th>rating</th>\n",
       "    </tr>\n",
       "    <tr>\n",
       "      <th>title</th>\n",
       "      <th></th>\n",
       "    </tr>\n",
       "  </thead>\n",
       "  <tbody>\n",
       "    <tr>\n",
       "      <th>3 Peas in a Pod</th>\n",
       "      <td>5.0</td>\n",
       "    </tr>\n",
       "    <tr>\n",
       "      <th>Angels Last Mission: Love</th>\n",
       "      <td>5.0</td>\n",
       "    </tr>\n",
       "    <tr>\n",
       "      <th>Be with Me</th>\n",
       "      <td>5.0</td>\n",
       "    </tr>\n",
       "    <tr>\n",
       "      <th>Cheese in the Trap</th>\n",
       "      <td>5.0</td>\n",
       "    </tr>\n",
       "    <tr>\n",
       "      <th>Frankenstein Conquers the World</th>\n",
       "      <td>5.0</td>\n",
       "    </tr>\n",
       "    <tr>\n",
       "      <th>High Score</th>\n",
       "      <td>5.0</td>\n",
       "    </tr>\n",
       "    <tr>\n",
       "      <th>Rememory</th>\n",
       "      <td>5.0</td>\n",
       "    </tr>\n",
       "    <tr>\n",
       "      <th>Rojo</th>\n",
       "      <td>5.0</td>\n",
       "    </tr>\n",
       "    <tr>\n",
       "      <th>Ten Years Japan</th>\n",
       "      <td>5.0</td>\n",
       "    </tr>\n",
       "    <tr>\n",
       "      <th>The Show Must Go On: The Queen + Adam Lambert Story</th>\n",
       "      <td>5.0</td>\n",
       "    </tr>\n",
       "  </tbody>\n",
       "</table>\n",
       "</div>"
      ],
      "text/plain": [
       "                                                    rating\n",
       "title                                                     \n",
       "3 Peas in a Pod                                        5.0\n",
       "Angels Last Mission: Love                              5.0\n",
       "Be with Me                                             5.0\n",
       "Cheese in the Trap                                     5.0\n",
       "Frankenstein Conquers the World                        5.0\n",
       "High Score                                             5.0\n",
       "Rememory                                               5.0\n",
       "Rojo                                                   5.0\n",
       "Ten Years Japan                                        5.0\n",
       "The Show Must Go On: The Queen + Adam Lambert S...     5.0"
      ]
     },
     "execution_count": 72,
     "metadata": {},
     "output_type": "execute_result"
    }
   ],
   "source": [
    "final_recommendations.head(10)"
   ]
  },
  {
   "cell_type": "markdown",
   "id": "489e415f",
   "metadata": {},
   "source": [
    "# Model Deployment"
   ]
  },
  {
   "cell_type": "code",
   "execution_count": 73,
   "id": "9e9dbb31",
   "metadata": {},
   "outputs": [],
   "source": [
    "import  streamlit as st\n",
    "import pickle"
   ]
  },
  {
   "cell_type": "code",
   "execution_count": 74,
   "id": "814eefa2",
   "metadata": {},
   "outputs": [],
   "source": [
    "# converting python object hierarchy into a byte stream\n",
    "\n",
    "pickle.dump(final_df.to_dict(),open('movies.pkl','wb'))\n",
    "pickle.dump(similarity,open('similarity.pkl','wb'))"
   ]
  },
  {
   "cell_type": "code",
   "execution_count": 75,
   "id": "30f871da",
   "metadata": {},
   "outputs": [],
   "source": [
    "pickle.dump(ratings.to_dict(),open('users1.pkl','wb'))"
   ]
  },
  {
   "cell_type": "code",
   "execution_count": 76,
   "id": "47bce4d7",
   "metadata": {},
   "outputs": [],
   "source": [
    "pickle.dump(dff.to_dict(),open('dff.pkl','wb'))\n",
    "pickle.dump(merged_df.to_dict(),open('merged_df.pkl','wb'))\n",
    "pickle.dump(user_movie_df.to_dict(),open('hybrid.pkl','wb'))"
   ]
  },
  {
   "cell_type": "code",
   "execution_count": null,
   "id": "4c1ada73",
   "metadata": {},
   "outputs": [],
   "source": []
  }
 ],
 "metadata": {
  "kernelspec": {
   "display_name": "Python 3 (ipykernel)",
   "language": "python",
   "name": "python3"
  },
  "language_info": {
   "codemirror_mode": {
    "name": "ipython",
    "version": 3
   },
   "file_extension": ".py",
   "mimetype": "text/x-python",
   "name": "python",
   "nbconvert_exporter": "python",
   "pygments_lexer": "ipython3",
   "version": "3.9.7"
  }
 },
 "nbformat": 4,
 "nbformat_minor": 5
}
